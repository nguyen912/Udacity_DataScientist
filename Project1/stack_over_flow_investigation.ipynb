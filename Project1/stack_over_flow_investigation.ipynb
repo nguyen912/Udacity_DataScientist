{
 "cells": [
  {
   "cell_type": "markdown",
   "id": "049127fb",
   "metadata": {},
   "source": [
    "# Project 1 - Writing a DataScientist Blog Post"
   ]
  },
  {
   "cell_type": "markdown",
   "id": "7ed2ea76",
   "metadata": {},
   "source": [
    "#### Use [Stack Overflow Survey](https://insights.stackoverflow.com/survey) 2018 - 2022 to answer three questions below: \n",
    "1. What programing languages were most popular each year?\n",
    "2. What jobs were most popular each year?\n",
    "3. Which major do people study to enter to IT industry? Do people need a master/bachelor degree to enter to IT industry?"
   ]
  },
  {
   "cell_type": "markdown",
   "id": "f621db4f",
   "metadata": {},
   "source": [
    "## I. Preparing Data"
   ]
  },
  {
   "cell_type": "markdown",
   "id": "801a307c",
   "metadata": {},
   "source": [
    "### 1. Gathering Data"
   ]
  },
  {
   "cell_type": "code",
   "execution_count": 1,
   "id": "c09947d0",
   "metadata": {},
   "outputs": [],
   "source": [
    "# Read data into csv file\n",
    "import pandas as pd\n",
    "suffix_str = '_survey_results_public.csv'"
   ]
  },
  {
   "cell_type": "code",
   "execution_count": 2,
   "id": "10755993",
   "metadata": {},
   "outputs": [
    {
     "data": {
      "text/plain": [
       "(98855, 129)"
      ]
     },
     "execution_count": 2,
     "metadata": {},
     "output_type": "execute_result"
    }
   ],
   "source": [
    "# survey 2018\n",
    "df_18 = pd.read_csv(f'data/2018{suffix_str}', low_memory=False)\n",
    "df_18.shape"
   ]
  },
  {
   "cell_type": "code",
   "execution_count": 3,
   "id": "ccdaaddb",
   "metadata": {},
   "outputs": [
    {
     "data": {
      "text/html": [
       "<div>\n",
       "<style scoped>\n",
       "    .dataframe tbody tr th:only-of-type {\n",
       "        vertical-align: middle;\n",
       "    }\n",
       "\n",
       "    .dataframe tbody tr th {\n",
       "        vertical-align: top;\n",
       "    }\n",
       "\n",
       "    .dataframe thead th {\n",
       "        text-align: right;\n",
       "    }\n",
       "</style>\n",
       "<table border=\"1\" class=\"dataframe\">\n",
       "  <thead>\n",
       "    <tr style=\"text-align: right;\">\n",
       "      <th></th>\n",
       "      <th>Respondent</th>\n",
       "      <th>Hobby</th>\n",
       "      <th>OpenSource</th>\n",
       "      <th>Country</th>\n",
       "      <th>Student</th>\n",
       "      <th>Employment</th>\n",
       "      <th>FormalEducation</th>\n",
       "      <th>UndergradMajor</th>\n",
       "      <th>CompanySize</th>\n",
       "      <th>DevType</th>\n",
       "      <th>...</th>\n",
       "      <th>Exercise</th>\n",
       "      <th>Gender</th>\n",
       "      <th>SexualOrientation</th>\n",
       "      <th>EducationParents</th>\n",
       "      <th>RaceEthnicity</th>\n",
       "      <th>Age</th>\n",
       "      <th>Dependents</th>\n",
       "      <th>MilitaryUS</th>\n",
       "      <th>SurveyTooLong</th>\n",
       "      <th>SurveyEasy</th>\n",
       "    </tr>\n",
       "  </thead>\n",
       "  <tbody>\n",
       "    <tr>\n",
       "      <th>12299</th>\n",
       "      <td>17531</td>\n",
       "      <td>Yes</td>\n",
       "      <td>Yes</td>\n",
       "      <td>France</td>\n",
       "      <td>No</td>\n",
       "      <td>Employed full-time</td>\n",
       "      <td>Master’s degree (MA, MS, M.Eng., MBA, etc.)</td>\n",
       "      <td>Computer science, computer engineering, or sof...</td>\n",
       "      <td>Fewer than 10 employees</td>\n",
       "      <td>Back-end developer;C-suite executive (CEO, CTO...</td>\n",
       "      <td>...</td>\n",
       "      <td>3 - 4 times per week</td>\n",
       "      <td>Male</td>\n",
       "      <td>Straight or heterosexual</td>\n",
       "      <td>Professional degree (JD, MD, etc.)</td>\n",
       "      <td>White or of European descent</td>\n",
       "      <td>35 - 44 years old</td>\n",
       "      <td>Yes</td>\n",
       "      <td>NaN</td>\n",
       "      <td>The survey was too long</td>\n",
       "      <td>Somewhat easy</td>\n",
       "    </tr>\n",
       "  </tbody>\n",
       "</table>\n",
       "<p>1 rows × 129 columns</p>\n",
       "</div>"
      ],
      "text/plain": [
       "       Respondent Hobby OpenSource Country Student          Employment  \\\n",
       "12299       17531   Yes        Yes  France      No  Employed full-time   \n",
       "\n",
       "                                   FormalEducation  \\\n",
       "12299  Master’s degree (MA, MS, M.Eng., MBA, etc.)   \n",
       "\n",
       "                                          UndergradMajor  \\\n",
       "12299  Computer science, computer engineering, or sof...   \n",
       "\n",
       "                   CompanySize  \\\n",
       "12299  Fewer than 10 employees   \n",
       "\n",
       "                                                 DevType  ...  \\\n",
       "12299  Back-end developer;C-suite executive (CEO, CTO...  ...   \n",
       "\n",
       "                   Exercise Gender         SexualOrientation  \\\n",
       "12299  3 - 4 times per week   Male  Straight or heterosexual   \n",
       "\n",
       "                         EducationParents                 RaceEthnicity  \\\n",
       "12299  Professional degree (JD, MD, etc.)  White or of European descent   \n",
       "\n",
       "                     Age Dependents  MilitaryUS            SurveyTooLong  \\\n",
       "12299  35 - 44 years old        Yes         NaN  The survey was too long   \n",
       "\n",
       "          SurveyEasy  \n",
       "12299  Somewhat easy  \n",
       "\n",
       "[1 rows x 129 columns]"
      ]
     },
     "execution_count": 3,
     "metadata": {},
     "output_type": "execute_result"
    }
   ],
   "source": [
    "df_18.sample()"
   ]
  },
  {
   "cell_type": "code",
   "execution_count": 4,
   "id": "aa2debf9",
   "metadata": {},
   "outputs": [
    {
     "data": {
      "text/plain": [
       "(88883, 85)"
      ]
     },
     "execution_count": 4,
     "metadata": {},
     "output_type": "execute_result"
    }
   ],
   "source": [
    "# survey 2019\n",
    "df_19 = pd.read_csv(f'data/2019{suffix_str}', low_memory=False)\n",
    "df_19.shape"
   ]
  },
  {
   "cell_type": "code",
   "execution_count": 5,
   "id": "a33ff63c",
   "metadata": {},
   "outputs": [
    {
     "data": {
      "text/html": [
       "<div>\n",
       "<style scoped>\n",
       "    .dataframe tbody tr th:only-of-type {\n",
       "        vertical-align: middle;\n",
       "    }\n",
       "\n",
       "    .dataframe tbody tr th {\n",
       "        vertical-align: top;\n",
       "    }\n",
       "\n",
       "    .dataframe thead th {\n",
       "        text-align: right;\n",
       "    }\n",
       "</style>\n",
       "<table border=\"1\" class=\"dataframe\">\n",
       "  <thead>\n",
       "    <tr style=\"text-align: right;\">\n",
       "      <th></th>\n",
       "      <th>Respondent</th>\n",
       "      <th>MainBranch</th>\n",
       "      <th>Hobbyist</th>\n",
       "      <th>OpenSourcer</th>\n",
       "      <th>OpenSource</th>\n",
       "      <th>Employment</th>\n",
       "      <th>Country</th>\n",
       "      <th>Student</th>\n",
       "      <th>EdLevel</th>\n",
       "      <th>UndergradMajor</th>\n",
       "      <th>...</th>\n",
       "      <th>WelcomeChange</th>\n",
       "      <th>SONewContent</th>\n",
       "      <th>Age</th>\n",
       "      <th>Gender</th>\n",
       "      <th>Trans</th>\n",
       "      <th>Sexuality</th>\n",
       "      <th>Ethnicity</th>\n",
       "      <th>Dependents</th>\n",
       "      <th>SurveyLength</th>\n",
       "      <th>SurveyEase</th>\n",
       "    </tr>\n",
       "  </thead>\n",
       "  <tbody>\n",
       "    <tr>\n",
       "      <th>78689</th>\n",
       "      <td>79181</td>\n",
       "      <td>I am a student who is learning to code</td>\n",
       "      <td>Yes</td>\n",
       "      <td>Less than once a month but more than once per ...</td>\n",
       "      <td>OSS is, on average, of LOWER quality than prop...</td>\n",
       "      <td>Not employed, and not looking for work</td>\n",
       "      <td>India</td>\n",
       "      <td>Yes, full-time</td>\n",
       "      <td>Secondary school (e.g. American high school, G...</td>\n",
       "      <td>NaN</td>\n",
       "      <td>...</td>\n",
       "      <td>Just as welcome now as I felt last year</td>\n",
       "      <td>Tech articles written by other developers;Indu...</td>\n",
       "      <td>19.0</td>\n",
       "      <td>Woman</td>\n",
       "      <td>No</td>\n",
       "      <td>Straight / Heterosexual</td>\n",
       "      <td>South Asian</td>\n",
       "      <td>Yes</td>\n",
       "      <td>Too long</td>\n",
       "      <td>Easy</td>\n",
       "    </tr>\n",
       "  </tbody>\n",
       "</table>\n",
       "<p>1 rows × 85 columns</p>\n",
       "</div>"
      ],
      "text/plain": [
       "       Respondent                              MainBranch Hobbyist  \\\n",
       "78689       79181  I am a student who is learning to code      Yes   \n",
       "\n",
       "                                             OpenSourcer  \\\n",
       "78689  Less than once a month but more than once per ...   \n",
       "\n",
       "                                              OpenSource  \\\n",
       "78689  OSS is, on average, of LOWER quality than prop...   \n",
       "\n",
       "                                   Employment Country         Student  \\\n",
       "78689  Not employed, and not looking for work   India  Yes, full-time   \n",
       "\n",
       "                                                 EdLevel UndergradMajor  ...  \\\n",
       "78689  Secondary school (e.g. American high school, G...            NaN  ...   \n",
       "\n",
       "                                 WelcomeChange  \\\n",
       "78689  Just as welcome now as I felt last year   \n",
       "\n",
       "                                            SONewContent   Age Gender Trans  \\\n",
       "78689  Tech articles written by other developers;Indu...  19.0  Woman    No   \n",
       "\n",
       "                     Sexuality    Ethnicity Dependents SurveyLength SurveyEase  \n",
       "78689  Straight / Heterosexual  South Asian        Yes     Too long       Easy  \n",
       "\n",
       "[1 rows x 85 columns]"
      ]
     },
     "execution_count": 5,
     "metadata": {},
     "output_type": "execute_result"
    }
   ],
   "source": [
    "df_19.sample()"
   ]
  },
  {
   "cell_type": "code",
   "execution_count": 6,
   "id": "f1b45bb1",
   "metadata": {},
   "outputs": [
    {
     "data": {
      "text/plain": [
       "(64461, 61)"
      ]
     },
     "execution_count": 6,
     "metadata": {},
     "output_type": "execute_result"
    }
   ],
   "source": [
    "# survey 2020\n",
    "df_20 = pd.read_csv(f'data/2020{suffix_str}', low_memory=False)\n",
    "df_20.shape"
   ]
  },
  {
   "cell_type": "code",
   "execution_count": 7,
   "id": "35501937",
   "metadata": {},
   "outputs": [
    {
     "data": {
      "text/html": [
       "<div>\n",
       "<style scoped>\n",
       "    .dataframe tbody tr th:only-of-type {\n",
       "        vertical-align: middle;\n",
       "    }\n",
       "\n",
       "    .dataframe tbody tr th {\n",
       "        vertical-align: top;\n",
       "    }\n",
       "\n",
       "    .dataframe thead th {\n",
       "        text-align: right;\n",
       "    }\n",
       "</style>\n",
       "<table border=\"1\" class=\"dataframe\">\n",
       "  <thead>\n",
       "    <tr style=\"text-align: right;\">\n",
       "      <th></th>\n",
       "      <th>Respondent</th>\n",
       "      <th>MainBranch</th>\n",
       "      <th>Hobbyist</th>\n",
       "      <th>Age</th>\n",
       "      <th>Age1stCode</th>\n",
       "      <th>CompFreq</th>\n",
       "      <th>CompTotal</th>\n",
       "      <th>ConvertedComp</th>\n",
       "      <th>Country</th>\n",
       "      <th>CurrencyDesc</th>\n",
       "      <th>...</th>\n",
       "      <th>SurveyEase</th>\n",
       "      <th>SurveyLength</th>\n",
       "      <th>Trans</th>\n",
       "      <th>UndergradMajor</th>\n",
       "      <th>WebframeDesireNextYear</th>\n",
       "      <th>WebframeWorkedWith</th>\n",
       "      <th>WelcomeChange</th>\n",
       "      <th>WorkWeekHrs</th>\n",
       "      <th>YearsCode</th>\n",
       "      <th>YearsCodePro</th>\n",
       "    </tr>\n",
       "  </thead>\n",
       "  <tbody>\n",
       "    <tr>\n",
       "      <th>14224</th>\n",
       "      <td>14268</td>\n",
       "      <td>I am a developer by profession</td>\n",
       "      <td>Yes</td>\n",
       "      <td>30.0</td>\n",
       "      <td>18</td>\n",
       "      <td>Monthly</td>\n",
       "      <td>NaN</td>\n",
       "      <td>NaN</td>\n",
       "      <td>India</td>\n",
       "      <td>Indian rupee</td>\n",
       "      <td>...</td>\n",
       "      <td>Easy</td>\n",
       "      <td>Too long</td>\n",
       "      <td>NaN</td>\n",
       "      <td>Web development or web design</td>\n",
       "      <td>Angular;Angular.js;jQuery;React.js;Vue.js</td>\n",
       "      <td>Angular;Angular.js;jQuery;React.js;Vue.js</td>\n",
       "      <td>A lot more welcome now than last year</td>\n",
       "      <td>48.0</td>\n",
       "      <td>12</td>\n",
       "      <td>7</td>\n",
       "    </tr>\n",
       "  </tbody>\n",
       "</table>\n",
       "<p>1 rows × 61 columns</p>\n",
       "</div>"
      ],
      "text/plain": [
       "       Respondent                      MainBranch Hobbyist   Age Age1stCode  \\\n",
       "14224       14268  I am a developer by profession      Yes  30.0         18   \n",
       "\n",
       "      CompFreq  CompTotal  ConvertedComp Country  CurrencyDesc  ...  \\\n",
       "14224  Monthly        NaN            NaN   India  Indian rupee  ...   \n",
       "\n",
       "      SurveyEase SurveyLength Trans                 UndergradMajor  \\\n",
       "14224       Easy     Too long   NaN  Web development or web design   \n",
       "\n",
       "                          WebframeDesireNextYear  \\\n",
       "14224  Angular;Angular.js;jQuery;React.js;Vue.js   \n",
       "\n",
       "                              WebframeWorkedWith  \\\n",
       "14224  Angular;Angular.js;jQuery;React.js;Vue.js   \n",
       "\n",
       "                               WelcomeChange WorkWeekHrs YearsCode  \\\n",
       "14224  A lot more welcome now than last year        48.0        12   \n",
       "\n",
       "      YearsCodePro  \n",
       "14224            7  \n",
       "\n",
       "[1 rows x 61 columns]"
      ]
     },
     "execution_count": 7,
     "metadata": {},
     "output_type": "execute_result"
    }
   ],
   "source": [
    "df_20.sample()"
   ]
  },
  {
   "cell_type": "code",
   "execution_count": 8,
   "id": "3dcc0270",
   "metadata": {},
   "outputs": [
    {
     "data": {
      "text/plain": [
       "(83439, 48)"
      ]
     },
     "execution_count": 8,
     "metadata": {},
     "output_type": "execute_result"
    }
   ],
   "source": [
    "# survey 2021\n",
    "df_21 = pd.read_csv(f'data/2021{suffix_str}', low_memory=False)\n",
    "df_21.shape"
   ]
  },
  {
   "cell_type": "code",
   "execution_count": 9,
   "id": "ca1e7e35",
   "metadata": {},
   "outputs": [
    {
     "data": {
      "text/html": [
       "<div>\n",
       "<style scoped>\n",
       "    .dataframe tbody tr th:only-of-type {\n",
       "        vertical-align: middle;\n",
       "    }\n",
       "\n",
       "    .dataframe tbody tr th {\n",
       "        vertical-align: top;\n",
       "    }\n",
       "\n",
       "    .dataframe thead th {\n",
       "        text-align: right;\n",
       "    }\n",
       "</style>\n",
       "<table border=\"1\" class=\"dataframe\">\n",
       "  <thead>\n",
       "    <tr style=\"text-align: right;\">\n",
       "      <th></th>\n",
       "      <th>ResponseId</th>\n",
       "      <th>MainBranch</th>\n",
       "      <th>Employment</th>\n",
       "      <th>Country</th>\n",
       "      <th>US_State</th>\n",
       "      <th>UK_Country</th>\n",
       "      <th>EdLevel</th>\n",
       "      <th>Age1stCode</th>\n",
       "      <th>LearnCode</th>\n",
       "      <th>YearsCode</th>\n",
       "      <th>...</th>\n",
       "      <th>Age</th>\n",
       "      <th>Gender</th>\n",
       "      <th>Trans</th>\n",
       "      <th>Sexuality</th>\n",
       "      <th>Ethnicity</th>\n",
       "      <th>Accessibility</th>\n",
       "      <th>MentalHealth</th>\n",
       "      <th>SurveyLength</th>\n",
       "      <th>SurveyEase</th>\n",
       "      <th>ConvertedCompYearly</th>\n",
       "    </tr>\n",
       "  </thead>\n",
       "  <tbody>\n",
       "    <tr>\n",
       "      <th>12868</th>\n",
       "      <td>12869</td>\n",
       "      <td>I am a developer by profession</td>\n",
       "      <td>Employed full-time</td>\n",
       "      <td>Ireland</td>\n",
       "      <td>NaN</td>\n",
       "      <td>NaN</td>\n",
       "      <td>Bachelor’s degree (B.A., B.S., B.Eng., etc.)</td>\n",
       "      <td>11 - 17 years</td>\n",
       "      <td>Other online resources (ex: videos, blogs, etc...</td>\n",
       "      <td>24</td>\n",
       "      <td>...</td>\n",
       "      <td>45-54 years old</td>\n",
       "      <td>Man</td>\n",
       "      <td>No</td>\n",
       "      <td>Straight / Heterosexual</td>\n",
       "      <td>White or of European descent</td>\n",
       "      <td>None of the above</td>\n",
       "      <td>None of the above</td>\n",
       "      <td>Too long</td>\n",
       "      <td>Neither easy nor difficult</td>\n",
       "      <td>NaN</td>\n",
       "    </tr>\n",
       "  </tbody>\n",
       "</table>\n",
       "<p>1 rows × 48 columns</p>\n",
       "</div>"
      ],
      "text/plain": [
       "       ResponseId                      MainBranch          Employment  \\\n",
       "12868       12869  I am a developer by profession  Employed full-time   \n",
       "\n",
       "       Country US_State UK_Country  \\\n",
       "12868  Ireland      NaN        NaN   \n",
       "\n",
       "                                            EdLevel     Age1stCode  \\\n",
       "12868  Bachelor’s degree (B.A., B.S., B.Eng., etc.)  11 - 17 years   \n",
       "\n",
       "                                               LearnCode YearsCode  ...  \\\n",
       "12868  Other online resources (ex: videos, blogs, etc...        24  ...   \n",
       "\n",
       "                   Age Gender Trans                Sexuality  \\\n",
       "12868  45-54 years old    Man    No  Straight / Heterosexual   \n",
       "\n",
       "                          Ethnicity      Accessibility       MentalHealth  \\\n",
       "12868  White or of European descent  None of the above  None of the above   \n",
       "\n",
       "      SurveyLength                  SurveyEase ConvertedCompYearly  \n",
       "12868     Too long  Neither easy nor difficult                 NaN  \n",
       "\n",
       "[1 rows x 48 columns]"
      ]
     },
     "execution_count": 9,
     "metadata": {},
     "output_type": "execute_result"
    }
   ],
   "source": [
    "df_21.sample()"
   ]
  },
  {
   "cell_type": "code",
   "execution_count": 10,
   "id": "769c5b3f",
   "metadata": {},
   "outputs": [
    {
     "data": {
      "text/plain": [
       "(73268, 79)"
      ]
     },
     "execution_count": 10,
     "metadata": {},
     "output_type": "execute_result"
    }
   ],
   "source": [
    "# survey 2022\n",
    "df_22 = pd.read_csv(f'data/2022{suffix_str}', low_memory=False)\n",
    "df_22.shape"
   ]
  },
  {
   "cell_type": "code",
   "execution_count": 11,
   "id": "8abcd978",
   "metadata": {},
   "outputs": [
    {
     "data": {
      "text/html": [
       "<div>\n",
       "<style scoped>\n",
       "    .dataframe tbody tr th:only-of-type {\n",
       "        vertical-align: middle;\n",
       "    }\n",
       "\n",
       "    .dataframe tbody tr th {\n",
       "        vertical-align: top;\n",
       "    }\n",
       "\n",
       "    .dataframe thead th {\n",
       "        text-align: right;\n",
       "    }\n",
       "</style>\n",
       "<table border=\"1\" class=\"dataframe\">\n",
       "  <thead>\n",
       "    <tr style=\"text-align: right;\">\n",
       "      <th></th>\n",
       "      <th>ResponseId</th>\n",
       "      <th>MainBranch</th>\n",
       "      <th>Employment</th>\n",
       "      <th>RemoteWork</th>\n",
       "      <th>CodingActivities</th>\n",
       "      <th>EdLevel</th>\n",
       "      <th>LearnCode</th>\n",
       "      <th>LearnCodeOnline</th>\n",
       "      <th>LearnCodeCoursesCert</th>\n",
       "      <th>YearsCode</th>\n",
       "      <th>...</th>\n",
       "      <th>TimeSearching</th>\n",
       "      <th>TimeAnswering</th>\n",
       "      <th>Onboarding</th>\n",
       "      <th>ProfessionalTech</th>\n",
       "      <th>TrueFalse_1</th>\n",
       "      <th>TrueFalse_2</th>\n",
       "      <th>TrueFalse_3</th>\n",
       "      <th>SurveyLength</th>\n",
       "      <th>SurveyEase</th>\n",
       "      <th>ConvertedCompYearly</th>\n",
       "    </tr>\n",
       "  </thead>\n",
       "  <tbody>\n",
       "    <tr>\n",
       "      <th>2989</th>\n",
       "      <td>2990</td>\n",
       "      <td>I am a developer by profession</td>\n",
       "      <td>Employed, full-time</td>\n",
       "      <td>Fully remote</td>\n",
       "      <td>Hobby</td>\n",
       "      <td>Some college/university study without earning ...</td>\n",
       "      <td>Other online resources (e.g., videos, blogs, f...</td>\n",
       "      <td>Blogs;How-to videos</td>\n",
       "      <td>NaN</td>\n",
       "      <td>4</td>\n",
       "      <td>...</td>\n",
       "      <td>NaN</td>\n",
       "      <td>NaN</td>\n",
       "      <td>NaN</td>\n",
       "      <td>NaN</td>\n",
       "      <td>NaN</td>\n",
       "      <td>NaN</td>\n",
       "      <td>NaN</td>\n",
       "      <td>Too long</td>\n",
       "      <td>Easy</td>\n",
       "      <td>159950.0</td>\n",
       "    </tr>\n",
       "  </tbody>\n",
       "</table>\n",
       "<p>1 rows × 79 columns</p>\n",
       "</div>"
      ],
      "text/plain": [
       "      ResponseId                      MainBranch           Employment  \\\n",
       "2989        2990  I am a developer by profession  Employed, full-time   \n",
       "\n",
       "        RemoteWork CodingActivities  \\\n",
       "2989  Fully remote            Hobby   \n",
       "\n",
       "                                                EdLevel  \\\n",
       "2989  Some college/university study without earning ...   \n",
       "\n",
       "                                              LearnCode      LearnCodeOnline  \\\n",
       "2989  Other online resources (e.g., videos, blogs, f...  Blogs;How-to videos   \n",
       "\n",
       "     LearnCodeCoursesCert YearsCode  ... TimeSearching TimeAnswering  \\\n",
       "2989                  NaN         4  ...           NaN           NaN   \n",
       "\n",
       "     Onboarding ProfessionalTech TrueFalse_1 TrueFalse_2 TrueFalse_3  \\\n",
       "2989        NaN              NaN         NaN         NaN         NaN   \n",
       "\n",
       "      SurveyLength SurveyEase ConvertedCompYearly  \n",
       "2989      Too long       Easy            159950.0  \n",
       "\n",
       "[1 rows x 79 columns]"
      ]
     },
     "execution_count": 11,
     "metadata": {},
     "output_type": "execute_result"
    }
   ],
   "source": [
    "df_22.sample()"
   ]
  },
  {
   "cell_type": "markdown",
   "id": "3e97e3be",
   "metadata": {},
   "source": [
    "**Observation**: \n",
    "- Based on data analysis requirements, decide to choose columns deep in dataframes: MainBranch/Employment, Languages/Technique, EducationLevel, LearnCodeMethod,... and the related columns."
   ]
  },
  {
   "cell_type": "markdown",
   "id": "50898ab9",
   "metadata": {},
   "source": [
    "### 2. Assessing Data"
   ]
  },
  {
   "cell_type": "markdown",
   "id": "6ec826d0",
   "metadata": {},
   "source": [
    "#### Survey 2018"
   ]
  },
  {
   "cell_type": "code",
   "execution_count": 12,
   "id": "a76eb315",
   "metadata": {},
   "outputs": [
    {
     "name": "stdout",
     "output_type": "stream",
     "text": [
      "1. Respondent\n",
      "2. Hobby\n",
      "3. OpenSource\n",
      "4. Country\n",
      "5. Student\n",
      "6. Employment\n",
      "7. FormalEducation\n",
      "8. UndergradMajor\n",
      "9. CompanySize\n",
      "10. DevType\n",
      "11. YearsCoding\n",
      "12. YearsCodingProf\n",
      "13. JobSatisfaction\n",
      "14. CareerSatisfaction\n",
      "15. HopeFiveYears\n",
      "16. JobSearchStatus\n",
      "17. LastNewJob\n",
      "18. AssessJob1\n",
      "19. AssessJob2\n",
      "20. AssessJob3\n",
      "21. AssessJob4\n",
      "22. AssessJob5\n",
      "23. AssessJob6\n",
      "24. AssessJob7\n",
      "25. AssessJob8\n",
      "26. AssessJob9\n",
      "27. AssessJob10\n",
      "28. AssessBenefits1\n",
      "29. AssessBenefits2\n",
      "30. AssessBenefits3\n",
      "31. AssessBenefits4\n",
      "32. AssessBenefits5\n",
      "33. AssessBenefits6\n",
      "34. AssessBenefits7\n",
      "35. AssessBenefits8\n",
      "36. AssessBenefits9\n",
      "37. AssessBenefits10\n",
      "38. AssessBenefits11\n",
      "39. JobContactPriorities1\n",
      "40. JobContactPriorities2\n",
      "41. JobContactPriorities3\n",
      "42. JobContactPriorities4\n",
      "43. JobContactPriorities5\n",
      "44. JobEmailPriorities1\n",
      "45. JobEmailPriorities2\n",
      "46. JobEmailPriorities3\n",
      "47. JobEmailPriorities4\n",
      "48. JobEmailPriorities5\n",
      "49. JobEmailPriorities6\n",
      "50. JobEmailPriorities7\n",
      "51. UpdateCV\n",
      "52. Currency\n",
      "53. Salary\n",
      "54. SalaryType\n",
      "55. ConvertedSalary\n",
      "56. CurrencySymbol\n",
      "57. CommunicationTools\n",
      "58. TimeFullyProductive\n",
      "59. EducationTypes\n",
      "60. SelfTaughtTypes\n",
      "61. TimeAfterBootcamp\n",
      "62. HackathonReasons\n",
      "63. AgreeDisagree1\n",
      "64. AgreeDisagree2\n",
      "65. AgreeDisagree3\n",
      "66. LanguageWorkedWith\n",
      "67. LanguageDesireNextYear\n",
      "68. DatabaseWorkedWith\n",
      "69. DatabaseDesireNextYear\n",
      "70. PlatformWorkedWith\n",
      "71. PlatformDesireNextYear\n",
      "72. FrameworkWorkedWith\n",
      "73. FrameworkDesireNextYear\n",
      "74. IDE\n",
      "75. OperatingSystem\n",
      "76. NumberMonitors\n",
      "77. Methodology\n",
      "78. VersionControl\n",
      "79. CheckInCode\n",
      "80. AdBlocker\n",
      "81. AdBlockerDisable\n",
      "82. AdBlockerReasons\n",
      "83. AdsAgreeDisagree1\n",
      "84. AdsAgreeDisagree2\n",
      "85. AdsAgreeDisagree3\n",
      "86. AdsActions\n",
      "87. AdsPriorities1\n",
      "88. AdsPriorities2\n",
      "89. AdsPriorities3\n",
      "90. AdsPriorities4\n",
      "91. AdsPriorities5\n",
      "92. AdsPriorities6\n",
      "93. AdsPriorities7\n",
      "94. AIDangerous\n",
      "95. AIInteresting\n",
      "96. AIResponsible\n",
      "97. AIFuture\n",
      "98. EthicsChoice\n",
      "99. EthicsReport\n",
      "100. EthicsResponsible\n",
      "101. EthicalImplications\n",
      "102. StackOverflowRecommend\n",
      "103. StackOverflowVisit\n",
      "104. StackOverflowHasAccount\n",
      "105. StackOverflowParticipate\n",
      "106. StackOverflowJobs\n",
      "107. StackOverflowDevStory\n",
      "108. StackOverflowJobsRecommend\n",
      "109. StackOverflowConsiderMember\n",
      "110. HypotheticalTools1\n",
      "111. HypotheticalTools2\n",
      "112. HypotheticalTools3\n",
      "113. HypotheticalTools4\n",
      "114. HypotheticalTools5\n",
      "115. WakeTime\n",
      "116. HoursComputer\n",
      "117. HoursOutside\n",
      "118. SkipMeals\n",
      "119. ErgonomicDevices\n",
      "120. Exercise\n",
      "121. Gender\n",
      "122. SexualOrientation\n",
      "123. EducationParents\n",
      "124. RaceEthnicity\n",
      "125. Age\n",
      "126. Dependents\n",
      "127. MilitaryUS\n",
      "128. SurveyTooLong\n",
      "129. SurveyEasy\n"
     ]
    }
   ],
   "source": [
    "# List all columns\n",
    "for index, col in enumerate(df_18.columns): \n",
    "    print(f'{index+1}. {col}')"
   ]
  },
  {
   "cell_type": "code",
   "execution_count": 13,
   "id": "8fe26dba",
   "metadata": {
    "scrolled": true
   },
   "outputs": [
    {
     "data": {
      "text/html": [
       "<div>\n",
       "<style scoped>\n",
       "    .dataframe tbody tr th:only-of-type {\n",
       "        vertical-align: middle;\n",
       "    }\n",
       "\n",
       "    .dataframe tbody tr th {\n",
       "        vertical-align: top;\n",
       "    }\n",
       "\n",
       "    .dataframe thead th {\n",
       "        text-align: right;\n",
       "    }\n",
       "</style>\n",
       "<table border=\"1\" class=\"dataframe\">\n",
       "  <thead>\n",
       "    <tr style=\"text-align: right;\">\n",
       "      <th></th>\n",
       "      <th>Employment</th>\n",
       "      <th>FormalEducation</th>\n",
       "      <th>UndergradMajor</th>\n",
       "      <th>DevType</th>\n",
       "      <th>LanguageWorkedWith</th>\n",
       "    </tr>\n",
       "  </thead>\n",
       "  <tbody>\n",
       "    <tr>\n",
       "      <th>0</th>\n",
       "      <td>Employed part-time</td>\n",
       "      <td>Bachelor’s degree (BA, BS, B.Eng., etc.)</td>\n",
       "      <td>Mathematics or statistics</td>\n",
       "      <td>Full-stack developer</td>\n",
       "      <td>JavaScript;Python;HTML;CSS</td>\n",
       "    </tr>\n",
       "    <tr>\n",
       "      <th>1</th>\n",
       "      <td>Employed full-time</td>\n",
       "      <td>Bachelor’s degree (BA, BS, B.Eng., etc.)</td>\n",
       "      <td>A natural science (ex. biology, chemistry, phy...</td>\n",
       "      <td>Database administrator;DevOps specialist;Full-...</td>\n",
       "      <td>JavaScript;Python;Bash/Shell</td>\n",
       "    </tr>\n",
       "    <tr>\n",
       "      <th>2</th>\n",
       "      <td>Employed full-time</td>\n",
       "      <td>Associate degree</td>\n",
       "      <td>Computer science, computer engineering, or sof...</td>\n",
       "      <td>Engineering manager;Full-stack developer</td>\n",
       "      <td>NaN</td>\n",
       "    </tr>\n",
       "    <tr>\n",
       "      <th>3</th>\n",
       "      <td>Employed full-time</td>\n",
       "      <td>Bachelor’s degree (BA, BS, B.Eng., etc.)</td>\n",
       "      <td>Computer science, computer engineering, or sof...</td>\n",
       "      <td>Full-stack developer</td>\n",
       "      <td>C#;JavaScript;SQL;TypeScript;HTML;CSS;Bash/Shell</td>\n",
       "    </tr>\n",
       "    <tr>\n",
       "      <th>4</th>\n",
       "      <td>Employed full-time</td>\n",
       "      <td>Some college/university study without earning ...</td>\n",
       "      <td>Computer science, computer engineering, or sof...</td>\n",
       "      <td>Data or business analyst;Desktop or enterprise...</td>\n",
       "      <td>C;C++;Java;Matlab;R;SQL;Bash/Shell</td>\n",
       "    </tr>\n",
       "  </tbody>\n",
       "</table>\n",
       "</div>"
      ],
      "text/plain": [
       "           Employment                                    FormalEducation  \\\n",
       "0  Employed part-time           Bachelor’s degree (BA, BS, B.Eng., etc.)   \n",
       "1  Employed full-time           Bachelor’s degree (BA, BS, B.Eng., etc.)   \n",
       "2  Employed full-time                                   Associate degree   \n",
       "3  Employed full-time           Bachelor’s degree (BA, BS, B.Eng., etc.)   \n",
       "4  Employed full-time  Some college/university study without earning ...   \n",
       "\n",
       "                                      UndergradMajor  \\\n",
       "0                          Mathematics or statistics   \n",
       "1  A natural science (ex. biology, chemistry, phy...   \n",
       "2  Computer science, computer engineering, or sof...   \n",
       "3  Computer science, computer engineering, or sof...   \n",
       "4  Computer science, computer engineering, or sof...   \n",
       "\n",
       "                                             DevType  \\\n",
       "0                               Full-stack developer   \n",
       "1  Database administrator;DevOps specialist;Full-...   \n",
       "2           Engineering manager;Full-stack developer   \n",
       "3                               Full-stack developer   \n",
       "4  Data or business analyst;Desktop or enterprise...   \n",
       "\n",
       "                                 LanguageWorkedWith  \n",
       "0                        JavaScript;Python;HTML;CSS  \n",
       "1                      JavaScript;Python;Bash/Shell  \n",
       "2                                               NaN  \n",
       "3  C#;JavaScript;SQL;TypeScript;HTML;CSS;Bash/Shell  \n",
       "4                C;C++;Java;Matlab;R;SQL;Bash/Shell  "
      ]
     },
     "execution_count": 13,
     "metadata": {},
     "output_type": "execute_result"
    }
   ],
   "source": [
    "# Choose needed columns\n",
    "df18_clean = df_18[['Employment', 'FormalEducation', 'UndergradMajor', 'DevType', 'LanguageWorkedWith']]\n",
    "df18_clean.head()"
   ]
  },
  {
   "cell_type": "markdown",
   "id": "68ba1a98",
   "metadata": {},
   "source": [
    "#### Survey 2019"
   ]
  },
  {
   "cell_type": "code",
   "execution_count": 14,
   "id": "fa0b2c9b",
   "metadata": {
    "scrolled": true
   },
   "outputs": [
    {
     "name": "stdout",
     "output_type": "stream",
     "text": [
      "1. Respondent\n",
      "2. MainBranch\n",
      "3. Hobbyist\n",
      "4. OpenSourcer\n",
      "5. OpenSource\n",
      "6. Employment\n",
      "7. Country\n",
      "8. Student\n",
      "9. EdLevel\n",
      "10. UndergradMajor\n",
      "11. EduOther\n",
      "12. OrgSize\n",
      "13. DevType\n",
      "14. YearsCode\n",
      "15. Age1stCode\n",
      "16. YearsCodePro\n",
      "17. CareerSat\n",
      "18. JobSat\n",
      "19. MgrIdiot\n",
      "20. MgrMoney\n",
      "21. MgrWant\n",
      "22. JobSeek\n",
      "23. LastHireDate\n",
      "24. LastInt\n",
      "25. FizzBuzz\n",
      "26. JobFactors\n",
      "27. ResumeUpdate\n",
      "28. CurrencySymbol\n",
      "29. CurrencyDesc\n",
      "30. CompTotal\n",
      "31. CompFreq\n",
      "32. ConvertedComp\n",
      "33. WorkWeekHrs\n",
      "34. WorkPlan\n",
      "35. WorkChallenge\n",
      "36. WorkRemote\n",
      "37. WorkLoc\n",
      "38. ImpSyn\n",
      "39. CodeRev\n",
      "40. CodeRevHrs\n",
      "41. UnitTests\n",
      "42. PurchaseHow\n",
      "43. PurchaseWhat\n",
      "44. LanguageWorkedWith\n",
      "45. LanguageDesireNextYear\n",
      "46. DatabaseWorkedWith\n",
      "47. DatabaseDesireNextYear\n",
      "48. PlatformWorkedWith\n",
      "49. PlatformDesireNextYear\n",
      "50. WebFrameWorkedWith\n",
      "51. WebFrameDesireNextYear\n",
      "52. MiscTechWorkedWith\n",
      "53. MiscTechDesireNextYear\n",
      "54. DevEnviron\n",
      "55. OpSys\n",
      "56. Containers\n",
      "57. BlockchainOrg\n",
      "58. BlockchainIs\n",
      "59. BetterLife\n",
      "60. ITperson\n",
      "61. OffOn\n",
      "62. SocialMedia\n",
      "63. Extraversion\n",
      "64. ScreenName\n",
      "65. SOVisit1st\n",
      "66. SOVisitFreq\n",
      "67. SOVisitTo\n",
      "68. SOFindAnswer\n",
      "69. SOTimeSaved\n",
      "70. SOHowMuchTime\n",
      "71. SOAccount\n",
      "72. SOPartFreq\n",
      "73. SOJobs\n",
      "74. EntTeams\n",
      "75. SOComm\n",
      "76. WelcomeChange\n",
      "77. SONewContent\n",
      "78. Age\n",
      "79. Gender\n",
      "80. Trans\n",
      "81. Sexuality\n",
      "82. Ethnicity\n",
      "83. Dependents\n",
      "84. SurveyLength\n",
      "85. SurveyEase\n"
     ]
    }
   ],
   "source": [
    "# List all columns\n",
    "for index, col in enumerate(df_19.columns): \n",
    "    print(f'{index+1}. {col}')"
   ]
  },
  {
   "cell_type": "code",
   "execution_count": 15,
   "id": "b858f428",
   "metadata": {},
   "outputs": [
    {
     "data": {
      "text/html": [
       "<div>\n",
       "<style scoped>\n",
       "    .dataframe tbody tr th:only-of-type {\n",
       "        vertical-align: middle;\n",
       "    }\n",
       "\n",
       "    .dataframe tbody tr th {\n",
       "        vertical-align: top;\n",
       "    }\n",
       "\n",
       "    .dataframe thead th {\n",
       "        text-align: right;\n",
       "    }\n",
       "</style>\n",
       "<table border=\"1\" class=\"dataframe\">\n",
       "  <thead>\n",
       "    <tr style=\"text-align: right;\">\n",
       "      <th></th>\n",
       "      <th>Employment</th>\n",
       "      <th>EdLevel</th>\n",
       "      <th>UndergradMajor</th>\n",
       "      <th>DevType</th>\n",
       "      <th>LanguageWorkedWith</th>\n",
       "    </tr>\n",
       "  </thead>\n",
       "  <tbody>\n",
       "    <tr>\n",
       "      <th>0</th>\n",
       "      <td>Not employed, and not looking for work</td>\n",
       "      <td>Primary/elementary school</td>\n",
       "      <td>NaN</td>\n",
       "      <td>NaN</td>\n",
       "      <td>HTML/CSS;Java;JavaScript;Python</td>\n",
       "    </tr>\n",
       "    <tr>\n",
       "      <th>1</th>\n",
       "      <td>Not employed, but looking for work</td>\n",
       "      <td>Secondary school (e.g. American high school, G...</td>\n",
       "      <td>NaN</td>\n",
       "      <td>Developer, desktop or enterprise applications;...</td>\n",
       "      <td>C++;HTML/CSS;Python</td>\n",
       "    </tr>\n",
       "    <tr>\n",
       "      <th>2</th>\n",
       "      <td>Employed full-time</td>\n",
       "      <td>Bachelor’s degree (BA, BS, B.Eng., etc.)</td>\n",
       "      <td>Web development or web design</td>\n",
       "      <td>Designer;Developer, back-end;Developer, front-...</td>\n",
       "      <td>HTML/CSS</td>\n",
       "    </tr>\n",
       "    <tr>\n",
       "      <th>3</th>\n",
       "      <td>Employed full-time</td>\n",
       "      <td>Bachelor’s degree (BA, BS, B.Eng., etc.)</td>\n",
       "      <td>Computer science, computer engineering, or sof...</td>\n",
       "      <td>Developer, full-stack</td>\n",
       "      <td>C;C++;C#;Python;SQL</td>\n",
       "    </tr>\n",
       "    <tr>\n",
       "      <th>4</th>\n",
       "      <td>Employed full-time</td>\n",
       "      <td>Bachelor’s degree (BA, BS, B.Eng., etc.)</td>\n",
       "      <td>Computer science, computer engineering, or sof...</td>\n",
       "      <td>Academic researcher;Developer, desktop or ente...</td>\n",
       "      <td>C++;HTML/CSS;Java;JavaScript;Python;SQL;VBA</td>\n",
       "    </tr>\n",
       "  </tbody>\n",
       "</table>\n",
       "</div>"
      ],
      "text/plain": [
       "                               Employment  \\\n",
       "0  Not employed, and not looking for work   \n",
       "1      Not employed, but looking for work   \n",
       "2                      Employed full-time   \n",
       "3                      Employed full-time   \n",
       "4                      Employed full-time   \n",
       "\n",
       "                                             EdLevel  \\\n",
       "0                          Primary/elementary school   \n",
       "1  Secondary school (e.g. American high school, G...   \n",
       "2           Bachelor’s degree (BA, BS, B.Eng., etc.)   \n",
       "3           Bachelor’s degree (BA, BS, B.Eng., etc.)   \n",
       "4           Bachelor’s degree (BA, BS, B.Eng., etc.)   \n",
       "\n",
       "                                      UndergradMajor  \\\n",
       "0                                                NaN   \n",
       "1                                                NaN   \n",
       "2                      Web development or web design   \n",
       "3  Computer science, computer engineering, or sof...   \n",
       "4  Computer science, computer engineering, or sof...   \n",
       "\n",
       "                                             DevType  \\\n",
       "0                                                NaN   \n",
       "1  Developer, desktop or enterprise applications;...   \n",
       "2  Designer;Developer, back-end;Developer, front-...   \n",
       "3                              Developer, full-stack   \n",
       "4  Academic researcher;Developer, desktop or ente...   \n",
       "\n",
       "                            LanguageWorkedWith  \n",
       "0              HTML/CSS;Java;JavaScript;Python  \n",
       "1                          C++;HTML/CSS;Python  \n",
       "2                                     HTML/CSS  \n",
       "3                          C;C++;C#;Python;SQL  \n",
       "4  C++;HTML/CSS;Java;JavaScript;Python;SQL;VBA  "
      ]
     },
     "execution_count": 15,
     "metadata": {},
     "output_type": "execute_result"
    }
   ],
   "source": [
    "# Choose needed columns\n",
    "df19_clean = df_19[['Employment', 'EdLevel', 'UndergradMajor', 'DevType', 'LanguageWorkedWith']]\n",
    "df19_clean.head()"
   ]
  },
  {
   "cell_type": "markdown",
   "id": "804d6fe2",
   "metadata": {},
   "source": [
    "#### Survey 2020"
   ]
  },
  {
   "cell_type": "code",
   "execution_count": 16,
   "id": "44c09da5",
   "metadata": {},
   "outputs": [
    {
     "name": "stdout",
     "output_type": "stream",
     "text": [
      "1. Respondent\n",
      "2. MainBranch\n",
      "3. Hobbyist\n",
      "4. Age\n",
      "5. Age1stCode\n",
      "6. CompFreq\n",
      "7. CompTotal\n",
      "8. ConvertedComp\n",
      "9. Country\n",
      "10. CurrencyDesc\n",
      "11. CurrencySymbol\n",
      "12. DatabaseDesireNextYear\n",
      "13. DatabaseWorkedWith\n",
      "14. DevType\n",
      "15. EdLevel\n",
      "16. Employment\n",
      "17. Ethnicity\n",
      "18. Gender\n",
      "19. JobFactors\n",
      "20. JobSat\n",
      "21. JobSeek\n",
      "22. LanguageDesireNextYear\n",
      "23. LanguageWorkedWith\n",
      "24. MiscTechDesireNextYear\n",
      "25. MiscTechWorkedWith\n",
      "26. NEWCollabToolsDesireNextYear\n",
      "27. NEWCollabToolsWorkedWith\n",
      "28. NEWDevOps\n",
      "29. NEWDevOpsImpt\n",
      "30. NEWEdImpt\n",
      "31. NEWJobHunt\n",
      "32. NEWJobHuntResearch\n",
      "33. NEWLearn\n",
      "34. NEWOffTopic\n",
      "35. NEWOnboardGood\n",
      "36. NEWOtherComms\n",
      "37. NEWOvertime\n",
      "38. NEWPurchaseResearch\n",
      "39. NEWPurpleLink\n",
      "40. NEWSOSites\n",
      "41. NEWStuck\n",
      "42. OpSys\n",
      "43. OrgSize\n",
      "44. PlatformDesireNextYear\n",
      "45. PlatformWorkedWith\n",
      "46. PurchaseWhat\n",
      "47. Sexuality\n",
      "48. SOAccount\n",
      "49. SOComm\n",
      "50. SOPartFreq\n",
      "51. SOVisitFreq\n",
      "52. SurveyEase\n",
      "53. SurveyLength\n",
      "54. Trans\n",
      "55. UndergradMajor\n",
      "56. WebframeDesireNextYear\n",
      "57. WebframeWorkedWith\n",
      "58. WelcomeChange\n",
      "59. WorkWeekHrs\n",
      "60. YearsCode\n",
      "61. YearsCodePro\n"
     ]
    }
   ],
   "source": [
    "# List all columns\n",
    "for index, col in enumerate(df_20.columns): \n",
    "    print(f'{index+1}. {col}')"
   ]
  },
  {
   "cell_type": "code",
   "execution_count": 17,
   "id": "9914d29b",
   "metadata": {},
   "outputs": [
    {
     "data": {
      "text/html": [
       "<div>\n",
       "<style scoped>\n",
       "    .dataframe tbody tr th:only-of-type {\n",
       "        vertical-align: middle;\n",
       "    }\n",
       "\n",
       "    .dataframe tbody tr th {\n",
       "        vertical-align: top;\n",
       "    }\n",
       "\n",
       "    .dataframe thead th {\n",
       "        text-align: right;\n",
       "    }\n",
       "</style>\n",
       "<table border=\"1\" class=\"dataframe\">\n",
       "  <thead>\n",
       "    <tr style=\"text-align: right;\">\n",
       "      <th></th>\n",
       "      <th>Employment</th>\n",
       "      <th>EdLevel</th>\n",
       "      <th>UndergradMajor</th>\n",
       "      <th>DevType</th>\n",
       "      <th>LanguageWorkedWith</th>\n",
       "    </tr>\n",
       "  </thead>\n",
       "  <tbody>\n",
       "    <tr>\n",
       "      <th>0</th>\n",
       "      <td>Independent contractor, freelancer, or self-em...</td>\n",
       "      <td>Master’s degree (M.A., M.S., M.Eng., MBA, etc.)</td>\n",
       "      <td>Computer science, computer engineering, or sof...</td>\n",
       "      <td>Developer, desktop or enterprise applications;...</td>\n",
       "      <td>C#;HTML/CSS;JavaScript</td>\n",
       "    </tr>\n",
       "    <tr>\n",
       "      <th>1</th>\n",
       "      <td>Employed full-time</td>\n",
       "      <td>Bachelor’s degree (B.A., B.S., B.Eng., etc.)</td>\n",
       "      <td>Computer science, computer engineering, or sof...</td>\n",
       "      <td>Developer, full-stack;Developer, mobile</td>\n",
       "      <td>JavaScript;Swift</td>\n",
       "    </tr>\n",
       "    <tr>\n",
       "      <th>2</th>\n",
       "      <td>NaN</td>\n",
       "      <td>NaN</td>\n",
       "      <td>NaN</td>\n",
       "      <td>NaN</td>\n",
       "      <td>Objective-C;Python;Swift</td>\n",
       "    </tr>\n",
       "    <tr>\n",
       "      <th>3</th>\n",
       "      <td>NaN</td>\n",
       "      <td>Master’s degree (M.A., M.S., M.Eng., MBA, etc.)</td>\n",
       "      <td>Computer science, computer engineering, or sof...</td>\n",
       "      <td>NaN</td>\n",
       "      <td>NaN</td>\n",
       "    </tr>\n",
       "    <tr>\n",
       "      <th>4</th>\n",
       "      <td>Employed full-time</td>\n",
       "      <td>Bachelor’s degree (B.A., B.S., B.Eng., etc.)</td>\n",
       "      <td>Computer science, computer engineering, or sof...</td>\n",
       "      <td>NaN</td>\n",
       "      <td>HTML/CSS;Ruby;SQL</td>\n",
       "    </tr>\n",
       "  </tbody>\n",
       "</table>\n",
       "</div>"
      ],
      "text/plain": [
       "                                          Employment  \\\n",
       "0  Independent contractor, freelancer, or self-em...   \n",
       "1                                 Employed full-time   \n",
       "2                                                NaN   \n",
       "3                                                NaN   \n",
       "4                                 Employed full-time   \n",
       "\n",
       "                                           EdLevel  \\\n",
       "0  Master’s degree (M.A., M.S., M.Eng., MBA, etc.)   \n",
       "1     Bachelor’s degree (B.A., B.S., B.Eng., etc.)   \n",
       "2                                              NaN   \n",
       "3  Master’s degree (M.A., M.S., M.Eng., MBA, etc.)   \n",
       "4     Bachelor’s degree (B.A., B.S., B.Eng., etc.)   \n",
       "\n",
       "                                      UndergradMajor  \\\n",
       "0  Computer science, computer engineering, or sof...   \n",
       "1  Computer science, computer engineering, or sof...   \n",
       "2                                                NaN   \n",
       "3  Computer science, computer engineering, or sof...   \n",
       "4  Computer science, computer engineering, or sof...   \n",
       "\n",
       "                                             DevType        LanguageWorkedWith  \n",
       "0  Developer, desktop or enterprise applications;...    C#;HTML/CSS;JavaScript  \n",
       "1            Developer, full-stack;Developer, mobile          JavaScript;Swift  \n",
       "2                                                NaN  Objective-C;Python;Swift  \n",
       "3                                                NaN                       NaN  \n",
       "4                                                NaN         HTML/CSS;Ruby;SQL  "
      ]
     },
     "execution_count": 17,
     "metadata": {},
     "output_type": "execute_result"
    }
   ],
   "source": [
    "# Choose needed columns\n",
    "df20_clean = df_20[['Employment', 'EdLevel', 'UndergradMajor', 'DevType', 'LanguageWorkedWith']]\n",
    "df20_clean.head()"
   ]
  },
  {
   "cell_type": "markdown",
   "id": "3b319402",
   "metadata": {},
   "source": [
    "#### Survey 2021"
   ]
  },
  {
   "cell_type": "code",
   "execution_count": 18,
   "id": "9837a65a",
   "metadata": {},
   "outputs": [
    {
     "name": "stdout",
     "output_type": "stream",
     "text": [
      "1. ResponseId\n",
      "2. MainBranch\n",
      "3. Employment\n",
      "4. Country\n",
      "5. US_State\n",
      "6. UK_Country\n",
      "7. EdLevel\n",
      "8. Age1stCode\n",
      "9. LearnCode\n",
      "10. YearsCode\n",
      "11. YearsCodePro\n",
      "12. DevType\n",
      "13. OrgSize\n",
      "14. Currency\n",
      "15. CompTotal\n",
      "16. CompFreq\n",
      "17. LanguageHaveWorkedWith\n",
      "18. LanguageWantToWorkWith\n",
      "19. DatabaseHaveWorkedWith\n",
      "20. DatabaseWantToWorkWith\n",
      "21. PlatformHaveWorkedWith\n",
      "22. PlatformWantToWorkWith\n",
      "23. WebframeHaveWorkedWith\n",
      "24. WebframeWantToWorkWith\n",
      "25. MiscTechHaveWorkedWith\n",
      "26. MiscTechWantToWorkWith\n",
      "27. ToolsTechHaveWorkedWith\n",
      "28. ToolsTechWantToWorkWith\n",
      "29. NEWCollabToolsHaveWorkedWith\n",
      "30. NEWCollabToolsWantToWorkWith\n",
      "31. OpSys\n",
      "32. NEWStuck\n",
      "33. NEWSOSites\n",
      "34. SOVisitFreq\n",
      "35. SOAccount\n",
      "36. SOPartFreq\n",
      "37. SOComm\n",
      "38. NEWOtherComms\n",
      "39. Age\n",
      "40. Gender\n",
      "41. Trans\n",
      "42. Sexuality\n",
      "43. Ethnicity\n",
      "44. Accessibility\n",
      "45. MentalHealth\n",
      "46. SurveyLength\n",
      "47. SurveyEase\n",
      "48. ConvertedCompYearly\n"
     ]
    }
   ],
   "source": [
    "# List all columns\n",
    "for index, col in enumerate(df_21.columns): \n",
    "    print(f'{index+1}. {col}')"
   ]
  },
  {
   "cell_type": "code",
   "execution_count": 19,
   "id": "27f32555",
   "metadata": {},
   "outputs": [
    {
     "data": {
      "text/html": [
       "<div>\n",
       "<style scoped>\n",
       "    .dataframe tbody tr th:only-of-type {\n",
       "        vertical-align: middle;\n",
       "    }\n",
       "\n",
       "    .dataframe tbody tr th {\n",
       "        vertical-align: top;\n",
       "    }\n",
       "\n",
       "    .dataframe thead th {\n",
       "        text-align: right;\n",
       "    }\n",
       "</style>\n",
       "<table border=\"1\" class=\"dataframe\">\n",
       "  <thead>\n",
       "    <tr style=\"text-align: right;\">\n",
       "      <th></th>\n",
       "      <th>Employment</th>\n",
       "      <th>EdLevel</th>\n",
       "      <th>DevType</th>\n",
       "      <th>LanguageHaveWorkedWith</th>\n",
       "    </tr>\n",
       "  </thead>\n",
       "  <tbody>\n",
       "    <tr>\n",
       "      <th>0</th>\n",
       "      <td>Independent contractor, freelancer, or self-em...</td>\n",
       "      <td>Secondary school (e.g. American high school, G...</td>\n",
       "      <td>Developer, mobile</td>\n",
       "      <td>C++;HTML/CSS;JavaScript;Objective-C;PHP;Swift</td>\n",
       "    </tr>\n",
       "    <tr>\n",
       "      <th>1</th>\n",
       "      <td>Student, full-time</td>\n",
       "      <td>Bachelor’s degree (B.A., B.S., B.Eng., etc.)</td>\n",
       "      <td>NaN</td>\n",
       "      <td>JavaScript;Python</td>\n",
       "    </tr>\n",
       "    <tr>\n",
       "      <th>2</th>\n",
       "      <td>Student, full-time</td>\n",
       "      <td>Bachelor’s degree (B.A., B.S., B.Eng., etc.)</td>\n",
       "      <td>NaN</td>\n",
       "      <td>Assembly;C;Python;R;Rust</td>\n",
       "    </tr>\n",
       "    <tr>\n",
       "      <th>3</th>\n",
       "      <td>Employed full-time</td>\n",
       "      <td>Master’s degree (M.A., M.S., M.Eng., MBA, etc.)</td>\n",
       "      <td>Developer, front-end</td>\n",
       "      <td>JavaScript;TypeScript</td>\n",
       "    </tr>\n",
       "    <tr>\n",
       "      <th>4</th>\n",
       "      <td>Independent contractor, freelancer, or self-em...</td>\n",
       "      <td>Master’s degree (M.A., M.S., M.Eng., MBA, etc.)</td>\n",
       "      <td>Developer, desktop or enterprise applications;...</td>\n",
       "      <td>Bash/Shell;HTML/CSS;Python;SQL</td>\n",
       "    </tr>\n",
       "  </tbody>\n",
       "</table>\n",
       "</div>"
      ],
      "text/plain": [
       "                                          Employment  \\\n",
       "0  Independent contractor, freelancer, or self-em...   \n",
       "1                                 Student, full-time   \n",
       "2                                 Student, full-time   \n",
       "3                                 Employed full-time   \n",
       "4  Independent contractor, freelancer, or self-em...   \n",
       "\n",
       "                                             EdLevel  \\\n",
       "0  Secondary school (e.g. American high school, G...   \n",
       "1       Bachelor’s degree (B.A., B.S., B.Eng., etc.)   \n",
       "2       Bachelor’s degree (B.A., B.S., B.Eng., etc.)   \n",
       "3    Master’s degree (M.A., M.S., M.Eng., MBA, etc.)   \n",
       "4    Master’s degree (M.A., M.S., M.Eng., MBA, etc.)   \n",
       "\n",
       "                                             DevType  \\\n",
       "0                                  Developer, mobile   \n",
       "1                                                NaN   \n",
       "2                                                NaN   \n",
       "3                               Developer, front-end   \n",
       "4  Developer, desktop or enterprise applications;...   \n",
       "\n",
       "                          LanguageHaveWorkedWith  \n",
       "0  C++;HTML/CSS;JavaScript;Objective-C;PHP;Swift  \n",
       "1                              JavaScript;Python  \n",
       "2                       Assembly;C;Python;R;Rust  \n",
       "3                          JavaScript;TypeScript  \n",
       "4                 Bash/Shell;HTML/CSS;Python;SQL  "
      ]
     },
     "execution_count": 19,
     "metadata": {},
     "output_type": "execute_result"
    }
   ],
   "source": [
    "# Choose needed columns\n",
    "df21_clean = df_21[['Employment', 'EdLevel', 'DevType', 'LanguageHaveWorkedWith']]\n",
    "df21_clean.head()"
   ]
  },
  {
   "cell_type": "markdown",
   "id": "58ccd91d",
   "metadata": {},
   "source": [
    "#### Survey 2022"
   ]
  },
  {
   "cell_type": "code",
   "execution_count": 20,
   "id": "4b185630",
   "metadata": {
    "scrolled": true
   },
   "outputs": [
    {
     "data": {
      "text/html": [
       "<div>\n",
       "<style scoped>\n",
       "    .dataframe tbody tr th:only-of-type {\n",
       "        vertical-align: middle;\n",
       "    }\n",
       "\n",
       "    .dataframe tbody tr th {\n",
       "        vertical-align: top;\n",
       "    }\n",
       "\n",
       "    .dataframe thead th {\n",
       "        text-align: right;\n",
       "    }\n",
       "</style>\n",
       "<table border=\"1\" class=\"dataframe\">\n",
       "  <thead>\n",
       "    <tr style=\"text-align: right;\">\n",
       "      <th></th>\n",
       "      <th>Employment</th>\n",
       "      <th>EdLevel</th>\n",
       "      <th>DevType</th>\n",
       "      <th>LanguageHaveWorkedWith</th>\n",
       "    </tr>\n",
       "  </thead>\n",
       "  <tbody>\n",
       "    <tr>\n",
       "      <th>0</th>\n",
       "      <td>NaN</td>\n",
       "      <td>NaN</td>\n",
       "      <td>NaN</td>\n",
       "      <td>NaN</td>\n",
       "    </tr>\n",
       "    <tr>\n",
       "      <th>1</th>\n",
       "      <td>Employed, full-time</td>\n",
       "      <td>NaN</td>\n",
       "      <td>NaN</td>\n",
       "      <td>JavaScript;TypeScript</td>\n",
       "    </tr>\n",
       "    <tr>\n",
       "      <th>2</th>\n",
       "      <td>Employed, full-time</td>\n",
       "      <td>Master’s degree (M.A., M.S., M.Eng., MBA, etc.)</td>\n",
       "      <td>Data scientist or machine learning specialist;...</td>\n",
       "      <td>C#;C++;HTML/CSS;JavaScript;Python</td>\n",
       "    </tr>\n",
       "    <tr>\n",
       "      <th>3</th>\n",
       "      <td>Employed, full-time</td>\n",
       "      <td>Bachelor’s degree (B.A., B.S., B.Eng., etc.)</td>\n",
       "      <td>Developer, full-stack</td>\n",
       "      <td>C#;JavaScript;SQL;TypeScript</td>\n",
       "    </tr>\n",
       "    <tr>\n",
       "      <th>4</th>\n",
       "      <td>Employed, full-time</td>\n",
       "      <td>Bachelor’s degree (B.A., B.S., B.Eng., etc.)</td>\n",
       "      <td>Developer, front-end;Developer, full-stack;Dev...</td>\n",
       "      <td>C#;HTML/CSS;JavaScript;SQL;Swift;TypeScript</td>\n",
       "    </tr>\n",
       "  </tbody>\n",
       "</table>\n",
       "</div>"
      ],
      "text/plain": [
       "            Employment                                          EdLevel  \\\n",
       "0                  NaN                                              NaN   \n",
       "1  Employed, full-time                                              NaN   \n",
       "2  Employed, full-time  Master’s degree (M.A., M.S., M.Eng., MBA, etc.)   \n",
       "3  Employed, full-time     Bachelor’s degree (B.A., B.S., B.Eng., etc.)   \n",
       "4  Employed, full-time     Bachelor’s degree (B.A., B.S., B.Eng., etc.)   \n",
       "\n",
       "                                             DevType  \\\n",
       "0                                                NaN   \n",
       "1                                                NaN   \n",
       "2  Data scientist or machine learning specialist;...   \n",
       "3                              Developer, full-stack   \n",
       "4  Developer, front-end;Developer, full-stack;Dev...   \n",
       "\n",
       "                        LanguageHaveWorkedWith  \n",
       "0                                          NaN  \n",
       "1                        JavaScript;TypeScript  \n",
       "2            C#;C++;HTML/CSS;JavaScript;Python  \n",
       "3                 C#;JavaScript;SQL;TypeScript  \n",
       "4  C#;HTML/CSS;JavaScript;SQL;Swift;TypeScript  "
      ]
     },
     "execution_count": 20,
     "metadata": {},
     "output_type": "execute_result"
    }
   ],
   "source": [
    "# Choose needed columns\n",
    "df22_clean = df_22[['Employment', 'EdLevel', 'DevType', 'LanguageHaveWorkedWith']]\n",
    "df22_clean.head()"
   ]
  },
  {
   "cell_type": "markdown",
   "id": "2d8f1ff2",
   "metadata": {},
   "source": [
    "### Issue observations"
   ]
  },
  {
   "cell_type": "markdown",
   "id": "6de216a4",
   "metadata": {},
   "source": [
    "- There're multiple dataframes that need to be merged and changed name of columns consistently. Data in 2021 and 2022 have no UndergradMajor column.\n",
    "- There're NULLs in all choosed columns.\n",
    "- LanguageWorkedWith column is stored in a set of values. So need to separate the values into rows."
   ]
  },
  {
   "cell_type": "markdown",
   "id": "3de29244",
   "metadata": {},
   "source": [
    "### 3. Cleaning Data"
   ]
  },
  {
   "cell_type": "markdown",
   "id": "bc0468c6",
   "metadata": {},
   "source": [
    "#### 3.1. Change column name & merge to one dataframe"
   ]
  },
  {
   "cell_type": "code",
   "execution_count": 21,
   "id": "7cd126b2",
   "metadata": {},
   "outputs": [],
   "source": [
    "def change_column_name(df):\n",
    "    \"\"\"\n",
    "        Params: a dataframe\n",
    "        Purpose: This function helps changing column name of dataframe.\n",
    "    \"\"\"\n",
    "    cols = df.columns\n",
    "    new_cols = ['employment', 'edu_level', 'undergrad_major', 'dev_type', 'language']\n",
    "    for col, ncol in zip(cols, new_cols):\n",
    "        df.rename({col: ncol}, axis=1, inplace=True)\n",
    "        \n",
    "pd.set_option('chained_assignment',None)"
   ]
  },
  {
   "cell_type": "code",
   "execution_count": 22,
   "id": "6c0a36fd",
   "metadata": {},
   "outputs": [],
   "source": [
    "# Because data in 2021 and 2022 have no UndergradMajor, so need to add new column and fill it by NULL\n",
    "df21_clean.insert(2, 'UndergradMajor', '')\n",
    "df22_clean.insert(2, 'UndergradMajor', '')"
   ]
  },
  {
   "cell_type": "code",
   "execution_count": 23,
   "id": "fe3edf7f",
   "metadata": {},
   "outputs": [],
   "source": [
    "# Change column name of dataframes consistently\n",
    "df_list = [df18_clean, df19_clean, df20_clean, df21_clean, df22_clean]\n",
    "for df in df_list:\n",
    "    change_column_name(df)"
   ]
  },
  {
   "cell_type": "markdown",
   "id": "0be0cf1e",
   "metadata": {},
   "source": [
    "#### Test"
   ]
  },
  {
   "cell_type": "code",
   "execution_count": 24,
   "id": "91e4b599",
   "metadata": {},
   "outputs": [
    {
     "data": {
      "text/plain": [
       "Index(['employment', 'edu_level', 'undergrad_major', 'dev_type', 'language'], dtype='object')"
      ]
     },
     "execution_count": 24,
     "metadata": {},
     "output_type": "execute_result"
    }
   ],
   "source": [
    "df18_clean.columns"
   ]
  },
  {
   "cell_type": "code",
   "execution_count": 25,
   "id": "e5db321e",
   "metadata": {},
   "outputs": [
    {
     "data": {
      "text/plain": [
       "Index(['employment', 'edu_level', 'undergrad_major', 'dev_type', 'language'], dtype='object')"
      ]
     },
     "execution_count": 25,
     "metadata": {},
     "output_type": "execute_result"
    }
   ],
   "source": [
    "df19_clean.columns"
   ]
  },
  {
   "cell_type": "code",
   "execution_count": 26,
   "id": "868b6a8d",
   "metadata": {},
   "outputs": [
    {
     "data": {
      "text/plain": [
       "Index(['employment', 'edu_level', 'undergrad_major', 'dev_type', 'language'], dtype='object')"
      ]
     },
     "execution_count": 26,
     "metadata": {},
     "output_type": "execute_result"
    }
   ],
   "source": [
    "df20_clean.columns"
   ]
  },
  {
   "cell_type": "code",
   "execution_count": 27,
   "id": "d2760983",
   "metadata": {},
   "outputs": [
    {
     "data": {
      "text/plain": [
       "Index(['employment', 'edu_level', 'undergrad_major', 'dev_type', 'language'], dtype='object')"
      ]
     },
     "execution_count": 27,
     "metadata": {},
     "output_type": "execute_result"
    }
   ],
   "source": [
    "df21_clean.columns"
   ]
  },
  {
   "cell_type": "code",
   "execution_count": 28,
   "id": "24567279",
   "metadata": {
    "scrolled": false
   },
   "outputs": [
    {
     "data": {
      "text/plain": [
       "Index(['employment', 'edu_level', 'undergrad_major', 'dev_type', 'language'], dtype='object')"
      ]
     },
     "execution_count": 28,
     "metadata": {},
     "output_type": "execute_result"
    }
   ],
   "source": [
    "df22_clean.columns"
   ]
  },
  {
   "cell_type": "markdown",
   "id": "c1012df8",
   "metadata": {},
   "source": [
    "#### Add new column Year to mark the data is fromm which year"
   ]
  },
  {
   "cell_type": "code",
   "execution_count": 29,
   "id": "4ac9927e",
   "metadata": {},
   "outputs": [],
   "source": [
    "def add_year_column(df, val):\n",
    "    df.insert(5, 'year', val)"
   ]
  },
  {
   "cell_type": "code",
   "execution_count": 30,
   "id": "5ef405eb",
   "metadata": {},
   "outputs": [],
   "source": [
    "years = [2018, 2019, 2020, 2021, 2022]\n",
    "for df, year in zip(df_list, years):\n",
    "    add_year_column(df, year)"
   ]
  },
  {
   "cell_type": "markdown",
   "id": "429f3b05",
   "metadata": {},
   "source": [
    "#### Test"
   ]
  },
  {
   "cell_type": "code",
   "execution_count": 31,
   "id": "4386e5f4",
   "metadata": {},
   "outputs": [
    {
     "data": {
      "text/html": [
       "<div>\n",
       "<style scoped>\n",
       "    .dataframe tbody tr th:only-of-type {\n",
       "        vertical-align: middle;\n",
       "    }\n",
       "\n",
       "    .dataframe tbody tr th {\n",
       "        vertical-align: top;\n",
       "    }\n",
       "\n",
       "    .dataframe thead th {\n",
       "        text-align: right;\n",
       "    }\n",
       "</style>\n",
       "<table border=\"1\" class=\"dataframe\">\n",
       "  <thead>\n",
       "    <tr style=\"text-align: right;\">\n",
       "      <th></th>\n",
       "      <th>employment</th>\n",
       "      <th>edu_level</th>\n",
       "      <th>undergrad_major</th>\n",
       "      <th>dev_type</th>\n",
       "      <th>language</th>\n",
       "      <th>year</th>\n",
       "    </tr>\n",
       "  </thead>\n",
       "  <tbody>\n",
       "    <tr>\n",
       "      <th>0</th>\n",
       "      <td>Employed part-time</td>\n",
       "      <td>Bachelor’s degree (BA, BS, B.Eng., etc.)</td>\n",
       "      <td>Mathematics or statistics</td>\n",
       "      <td>Full-stack developer</td>\n",
       "      <td>JavaScript;Python;HTML;CSS</td>\n",
       "      <td>2018</td>\n",
       "    </tr>\n",
       "    <tr>\n",
       "      <th>1</th>\n",
       "      <td>Employed full-time</td>\n",
       "      <td>Bachelor’s degree (BA, BS, B.Eng., etc.)</td>\n",
       "      <td>A natural science (ex. biology, chemistry, phy...</td>\n",
       "      <td>Database administrator;DevOps specialist;Full-...</td>\n",
       "      <td>JavaScript;Python;Bash/Shell</td>\n",
       "      <td>2018</td>\n",
       "    </tr>\n",
       "    <tr>\n",
       "      <th>2</th>\n",
       "      <td>Employed full-time</td>\n",
       "      <td>Associate degree</td>\n",
       "      <td>Computer science, computer engineering, or sof...</td>\n",
       "      <td>Engineering manager;Full-stack developer</td>\n",
       "      <td>NaN</td>\n",
       "      <td>2018</td>\n",
       "    </tr>\n",
       "    <tr>\n",
       "      <th>3</th>\n",
       "      <td>Employed full-time</td>\n",
       "      <td>Bachelor’s degree (BA, BS, B.Eng., etc.)</td>\n",
       "      <td>Computer science, computer engineering, or sof...</td>\n",
       "      <td>Full-stack developer</td>\n",
       "      <td>C#;JavaScript;SQL;TypeScript;HTML;CSS;Bash/Shell</td>\n",
       "      <td>2018</td>\n",
       "    </tr>\n",
       "    <tr>\n",
       "      <th>4</th>\n",
       "      <td>Employed full-time</td>\n",
       "      <td>Some college/university study without earning ...</td>\n",
       "      <td>Computer science, computer engineering, or sof...</td>\n",
       "      <td>Data or business analyst;Desktop or enterprise...</td>\n",
       "      <td>C;C++;Java;Matlab;R;SQL;Bash/Shell</td>\n",
       "      <td>2018</td>\n",
       "    </tr>\n",
       "  </tbody>\n",
       "</table>\n",
       "</div>"
      ],
      "text/plain": [
       "           employment                                          edu_level  \\\n",
       "0  Employed part-time           Bachelor’s degree (BA, BS, B.Eng., etc.)   \n",
       "1  Employed full-time           Bachelor’s degree (BA, BS, B.Eng., etc.)   \n",
       "2  Employed full-time                                   Associate degree   \n",
       "3  Employed full-time           Bachelor’s degree (BA, BS, B.Eng., etc.)   \n",
       "4  Employed full-time  Some college/university study without earning ...   \n",
       "\n",
       "                                     undergrad_major  \\\n",
       "0                          Mathematics or statistics   \n",
       "1  A natural science (ex. biology, chemistry, phy...   \n",
       "2  Computer science, computer engineering, or sof...   \n",
       "3  Computer science, computer engineering, or sof...   \n",
       "4  Computer science, computer engineering, or sof...   \n",
       "\n",
       "                                            dev_type  \\\n",
       "0                               Full-stack developer   \n",
       "1  Database administrator;DevOps specialist;Full-...   \n",
       "2           Engineering manager;Full-stack developer   \n",
       "3                               Full-stack developer   \n",
       "4  Data or business analyst;Desktop or enterprise...   \n",
       "\n",
       "                                           language  year  \n",
       "0                        JavaScript;Python;HTML;CSS  2018  \n",
       "1                      JavaScript;Python;Bash/Shell  2018  \n",
       "2                                               NaN  2018  \n",
       "3  C#;JavaScript;SQL;TypeScript;HTML;CSS;Bash/Shell  2018  \n",
       "4                C;C++;Java;Matlab;R;SQL;Bash/Shell  2018  "
      ]
     },
     "execution_count": 31,
     "metadata": {},
     "output_type": "execute_result"
    }
   ],
   "source": [
    "df18_clean.head()"
   ]
  },
  {
   "cell_type": "code",
   "execution_count": 32,
   "id": "ccddd2ef",
   "metadata": {},
   "outputs": [
    {
     "data": {
      "text/html": [
       "<div>\n",
       "<style scoped>\n",
       "    .dataframe tbody tr th:only-of-type {\n",
       "        vertical-align: middle;\n",
       "    }\n",
       "\n",
       "    .dataframe tbody tr th {\n",
       "        vertical-align: top;\n",
       "    }\n",
       "\n",
       "    .dataframe thead th {\n",
       "        text-align: right;\n",
       "    }\n",
       "</style>\n",
       "<table border=\"1\" class=\"dataframe\">\n",
       "  <thead>\n",
       "    <tr style=\"text-align: right;\">\n",
       "      <th></th>\n",
       "      <th>employment</th>\n",
       "      <th>edu_level</th>\n",
       "      <th>undergrad_major</th>\n",
       "      <th>dev_type</th>\n",
       "      <th>language</th>\n",
       "      <th>year</th>\n",
       "    </tr>\n",
       "  </thead>\n",
       "  <tbody>\n",
       "    <tr>\n",
       "      <th>0</th>\n",
       "      <td>Not employed, and not looking for work</td>\n",
       "      <td>Primary/elementary school</td>\n",
       "      <td>NaN</td>\n",
       "      <td>NaN</td>\n",
       "      <td>HTML/CSS;Java;JavaScript;Python</td>\n",
       "      <td>2019</td>\n",
       "    </tr>\n",
       "    <tr>\n",
       "      <th>1</th>\n",
       "      <td>Not employed, but looking for work</td>\n",
       "      <td>Secondary school (e.g. American high school, G...</td>\n",
       "      <td>NaN</td>\n",
       "      <td>Developer, desktop or enterprise applications;...</td>\n",
       "      <td>C++;HTML/CSS;Python</td>\n",
       "      <td>2019</td>\n",
       "    </tr>\n",
       "    <tr>\n",
       "      <th>2</th>\n",
       "      <td>Employed full-time</td>\n",
       "      <td>Bachelor’s degree (BA, BS, B.Eng., etc.)</td>\n",
       "      <td>Web development or web design</td>\n",
       "      <td>Designer;Developer, back-end;Developer, front-...</td>\n",
       "      <td>HTML/CSS</td>\n",
       "      <td>2019</td>\n",
       "    </tr>\n",
       "    <tr>\n",
       "      <th>3</th>\n",
       "      <td>Employed full-time</td>\n",
       "      <td>Bachelor’s degree (BA, BS, B.Eng., etc.)</td>\n",
       "      <td>Computer science, computer engineering, or sof...</td>\n",
       "      <td>Developer, full-stack</td>\n",
       "      <td>C;C++;C#;Python;SQL</td>\n",
       "      <td>2019</td>\n",
       "    </tr>\n",
       "    <tr>\n",
       "      <th>4</th>\n",
       "      <td>Employed full-time</td>\n",
       "      <td>Bachelor’s degree (BA, BS, B.Eng., etc.)</td>\n",
       "      <td>Computer science, computer engineering, or sof...</td>\n",
       "      <td>Academic researcher;Developer, desktop or ente...</td>\n",
       "      <td>C++;HTML/CSS;Java;JavaScript;Python;SQL;VBA</td>\n",
       "      <td>2019</td>\n",
       "    </tr>\n",
       "  </tbody>\n",
       "</table>\n",
       "</div>"
      ],
      "text/plain": [
       "                               employment  \\\n",
       "0  Not employed, and not looking for work   \n",
       "1      Not employed, but looking for work   \n",
       "2                      Employed full-time   \n",
       "3                      Employed full-time   \n",
       "4                      Employed full-time   \n",
       "\n",
       "                                           edu_level  \\\n",
       "0                          Primary/elementary school   \n",
       "1  Secondary school (e.g. American high school, G...   \n",
       "2           Bachelor’s degree (BA, BS, B.Eng., etc.)   \n",
       "3           Bachelor’s degree (BA, BS, B.Eng., etc.)   \n",
       "4           Bachelor’s degree (BA, BS, B.Eng., etc.)   \n",
       "\n",
       "                                     undergrad_major  \\\n",
       "0                                                NaN   \n",
       "1                                                NaN   \n",
       "2                      Web development or web design   \n",
       "3  Computer science, computer engineering, or sof...   \n",
       "4  Computer science, computer engineering, or sof...   \n",
       "\n",
       "                                            dev_type  \\\n",
       "0                                                NaN   \n",
       "1  Developer, desktop or enterprise applications;...   \n",
       "2  Designer;Developer, back-end;Developer, front-...   \n",
       "3                              Developer, full-stack   \n",
       "4  Academic researcher;Developer, desktop or ente...   \n",
       "\n",
       "                                      language  year  \n",
       "0              HTML/CSS;Java;JavaScript;Python  2019  \n",
       "1                          C++;HTML/CSS;Python  2019  \n",
       "2                                     HTML/CSS  2019  \n",
       "3                          C;C++;C#;Python;SQL  2019  \n",
       "4  C++;HTML/CSS;Java;JavaScript;Python;SQL;VBA  2019  "
      ]
     },
     "execution_count": 32,
     "metadata": {},
     "output_type": "execute_result"
    }
   ],
   "source": [
    "df19_clean.head()"
   ]
  },
  {
   "cell_type": "code",
   "execution_count": 33,
   "id": "7ab5656d",
   "metadata": {},
   "outputs": [
    {
     "data": {
      "text/html": [
       "<div>\n",
       "<style scoped>\n",
       "    .dataframe tbody tr th:only-of-type {\n",
       "        vertical-align: middle;\n",
       "    }\n",
       "\n",
       "    .dataframe tbody tr th {\n",
       "        vertical-align: top;\n",
       "    }\n",
       "\n",
       "    .dataframe thead th {\n",
       "        text-align: right;\n",
       "    }\n",
       "</style>\n",
       "<table border=\"1\" class=\"dataframe\">\n",
       "  <thead>\n",
       "    <tr style=\"text-align: right;\">\n",
       "      <th></th>\n",
       "      <th>employment</th>\n",
       "      <th>edu_level</th>\n",
       "      <th>undergrad_major</th>\n",
       "      <th>dev_type</th>\n",
       "      <th>language</th>\n",
       "      <th>year</th>\n",
       "    </tr>\n",
       "  </thead>\n",
       "  <tbody>\n",
       "    <tr>\n",
       "      <th>0</th>\n",
       "      <td>Independent contractor, freelancer, or self-em...</td>\n",
       "      <td>Master’s degree (M.A., M.S., M.Eng., MBA, etc.)</td>\n",
       "      <td>Computer science, computer engineering, or sof...</td>\n",
       "      <td>Developer, desktop or enterprise applications;...</td>\n",
       "      <td>C#;HTML/CSS;JavaScript</td>\n",
       "      <td>2020</td>\n",
       "    </tr>\n",
       "    <tr>\n",
       "      <th>1</th>\n",
       "      <td>Employed full-time</td>\n",
       "      <td>Bachelor’s degree (B.A., B.S., B.Eng., etc.)</td>\n",
       "      <td>Computer science, computer engineering, or sof...</td>\n",
       "      <td>Developer, full-stack;Developer, mobile</td>\n",
       "      <td>JavaScript;Swift</td>\n",
       "      <td>2020</td>\n",
       "    </tr>\n",
       "    <tr>\n",
       "      <th>2</th>\n",
       "      <td>NaN</td>\n",
       "      <td>NaN</td>\n",
       "      <td>NaN</td>\n",
       "      <td>NaN</td>\n",
       "      <td>Objective-C;Python;Swift</td>\n",
       "      <td>2020</td>\n",
       "    </tr>\n",
       "    <tr>\n",
       "      <th>3</th>\n",
       "      <td>NaN</td>\n",
       "      <td>Master’s degree (M.A., M.S., M.Eng., MBA, etc.)</td>\n",
       "      <td>Computer science, computer engineering, or sof...</td>\n",
       "      <td>NaN</td>\n",
       "      <td>NaN</td>\n",
       "      <td>2020</td>\n",
       "    </tr>\n",
       "    <tr>\n",
       "      <th>4</th>\n",
       "      <td>Employed full-time</td>\n",
       "      <td>Bachelor’s degree (B.A., B.S., B.Eng., etc.)</td>\n",
       "      <td>Computer science, computer engineering, or sof...</td>\n",
       "      <td>NaN</td>\n",
       "      <td>HTML/CSS;Ruby;SQL</td>\n",
       "      <td>2020</td>\n",
       "    </tr>\n",
       "  </tbody>\n",
       "</table>\n",
       "</div>"
      ],
      "text/plain": [
       "                                          employment  \\\n",
       "0  Independent contractor, freelancer, or self-em...   \n",
       "1                                 Employed full-time   \n",
       "2                                                NaN   \n",
       "3                                                NaN   \n",
       "4                                 Employed full-time   \n",
       "\n",
       "                                         edu_level  \\\n",
       "0  Master’s degree (M.A., M.S., M.Eng., MBA, etc.)   \n",
       "1     Bachelor’s degree (B.A., B.S., B.Eng., etc.)   \n",
       "2                                              NaN   \n",
       "3  Master’s degree (M.A., M.S., M.Eng., MBA, etc.)   \n",
       "4     Bachelor’s degree (B.A., B.S., B.Eng., etc.)   \n",
       "\n",
       "                                     undergrad_major  \\\n",
       "0  Computer science, computer engineering, or sof...   \n",
       "1  Computer science, computer engineering, or sof...   \n",
       "2                                                NaN   \n",
       "3  Computer science, computer engineering, or sof...   \n",
       "4  Computer science, computer engineering, or sof...   \n",
       "\n",
       "                                            dev_type  \\\n",
       "0  Developer, desktop or enterprise applications;...   \n",
       "1            Developer, full-stack;Developer, mobile   \n",
       "2                                                NaN   \n",
       "3                                                NaN   \n",
       "4                                                NaN   \n",
       "\n",
       "                   language  year  \n",
       "0    C#;HTML/CSS;JavaScript  2020  \n",
       "1          JavaScript;Swift  2020  \n",
       "2  Objective-C;Python;Swift  2020  \n",
       "3                       NaN  2020  \n",
       "4         HTML/CSS;Ruby;SQL  2020  "
      ]
     },
     "execution_count": 33,
     "metadata": {},
     "output_type": "execute_result"
    }
   ],
   "source": [
    "df20_clean.head()"
   ]
  },
  {
   "cell_type": "code",
   "execution_count": 34,
   "id": "667faedc",
   "metadata": {},
   "outputs": [
    {
     "data": {
      "text/html": [
       "<div>\n",
       "<style scoped>\n",
       "    .dataframe tbody tr th:only-of-type {\n",
       "        vertical-align: middle;\n",
       "    }\n",
       "\n",
       "    .dataframe tbody tr th {\n",
       "        vertical-align: top;\n",
       "    }\n",
       "\n",
       "    .dataframe thead th {\n",
       "        text-align: right;\n",
       "    }\n",
       "</style>\n",
       "<table border=\"1\" class=\"dataframe\">\n",
       "  <thead>\n",
       "    <tr style=\"text-align: right;\">\n",
       "      <th></th>\n",
       "      <th>employment</th>\n",
       "      <th>edu_level</th>\n",
       "      <th>undergrad_major</th>\n",
       "      <th>dev_type</th>\n",
       "      <th>language</th>\n",
       "      <th>year</th>\n",
       "    </tr>\n",
       "  </thead>\n",
       "  <tbody>\n",
       "    <tr>\n",
       "      <th>0</th>\n",
       "      <td>Independent contractor, freelancer, or self-em...</td>\n",
       "      <td>Secondary school (e.g. American high school, G...</td>\n",
       "      <td></td>\n",
       "      <td>Developer, mobile</td>\n",
       "      <td>C++;HTML/CSS;JavaScript;Objective-C;PHP;Swift</td>\n",
       "      <td>2021</td>\n",
       "    </tr>\n",
       "    <tr>\n",
       "      <th>1</th>\n",
       "      <td>Student, full-time</td>\n",
       "      <td>Bachelor’s degree (B.A., B.S., B.Eng., etc.)</td>\n",
       "      <td></td>\n",
       "      <td>NaN</td>\n",
       "      <td>JavaScript;Python</td>\n",
       "      <td>2021</td>\n",
       "    </tr>\n",
       "    <tr>\n",
       "      <th>2</th>\n",
       "      <td>Student, full-time</td>\n",
       "      <td>Bachelor’s degree (B.A., B.S., B.Eng., etc.)</td>\n",
       "      <td></td>\n",
       "      <td>NaN</td>\n",
       "      <td>Assembly;C;Python;R;Rust</td>\n",
       "      <td>2021</td>\n",
       "    </tr>\n",
       "    <tr>\n",
       "      <th>3</th>\n",
       "      <td>Employed full-time</td>\n",
       "      <td>Master’s degree (M.A., M.S., M.Eng., MBA, etc.)</td>\n",
       "      <td></td>\n",
       "      <td>Developer, front-end</td>\n",
       "      <td>JavaScript;TypeScript</td>\n",
       "      <td>2021</td>\n",
       "    </tr>\n",
       "    <tr>\n",
       "      <th>4</th>\n",
       "      <td>Independent contractor, freelancer, or self-em...</td>\n",
       "      <td>Master’s degree (M.A., M.S., M.Eng., MBA, etc.)</td>\n",
       "      <td></td>\n",
       "      <td>Developer, desktop or enterprise applications;...</td>\n",
       "      <td>Bash/Shell;HTML/CSS;Python;SQL</td>\n",
       "      <td>2021</td>\n",
       "    </tr>\n",
       "  </tbody>\n",
       "</table>\n",
       "</div>"
      ],
      "text/plain": [
       "                                          employment  \\\n",
       "0  Independent contractor, freelancer, or self-em...   \n",
       "1                                 Student, full-time   \n",
       "2                                 Student, full-time   \n",
       "3                                 Employed full-time   \n",
       "4  Independent contractor, freelancer, or self-em...   \n",
       "\n",
       "                                           edu_level undergrad_major  \\\n",
       "0  Secondary school (e.g. American high school, G...                   \n",
       "1       Bachelor’s degree (B.A., B.S., B.Eng., etc.)                   \n",
       "2       Bachelor’s degree (B.A., B.S., B.Eng., etc.)                   \n",
       "3    Master’s degree (M.A., M.S., M.Eng., MBA, etc.)                   \n",
       "4    Master’s degree (M.A., M.S., M.Eng., MBA, etc.)                   \n",
       "\n",
       "                                            dev_type  \\\n",
       "0                                  Developer, mobile   \n",
       "1                                                NaN   \n",
       "2                                                NaN   \n",
       "3                               Developer, front-end   \n",
       "4  Developer, desktop or enterprise applications;...   \n",
       "\n",
       "                                        language  year  \n",
       "0  C++;HTML/CSS;JavaScript;Objective-C;PHP;Swift  2021  \n",
       "1                              JavaScript;Python  2021  \n",
       "2                       Assembly;C;Python;R;Rust  2021  \n",
       "3                          JavaScript;TypeScript  2021  \n",
       "4                 Bash/Shell;HTML/CSS;Python;SQL  2021  "
      ]
     },
     "execution_count": 34,
     "metadata": {},
     "output_type": "execute_result"
    }
   ],
   "source": [
    "df21_clean.head()"
   ]
  },
  {
   "cell_type": "code",
   "execution_count": 35,
   "id": "86b77949",
   "metadata": {},
   "outputs": [
    {
     "data": {
      "text/html": [
       "<div>\n",
       "<style scoped>\n",
       "    .dataframe tbody tr th:only-of-type {\n",
       "        vertical-align: middle;\n",
       "    }\n",
       "\n",
       "    .dataframe tbody tr th {\n",
       "        vertical-align: top;\n",
       "    }\n",
       "\n",
       "    .dataframe thead th {\n",
       "        text-align: right;\n",
       "    }\n",
       "</style>\n",
       "<table border=\"1\" class=\"dataframe\">\n",
       "  <thead>\n",
       "    <tr style=\"text-align: right;\">\n",
       "      <th></th>\n",
       "      <th>employment</th>\n",
       "      <th>edu_level</th>\n",
       "      <th>undergrad_major</th>\n",
       "      <th>dev_type</th>\n",
       "      <th>language</th>\n",
       "      <th>year</th>\n",
       "    </tr>\n",
       "  </thead>\n",
       "  <tbody>\n",
       "    <tr>\n",
       "      <th>0</th>\n",
       "      <td>NaN</td>\n",
       "      <td>NaN</td>\n",
       "      <td></td>\n",
       "      <td>NaN</td>\n",
       "      <td>NaN</td>\n",
       "      <td>2022</td>\n",
       "    </tr>\n",
       "    <tr>\n",
       "      <th>1</th>\n",
       "      <td>Employed, full-time</td>\n",
       "      <td>NaN</td>\n",
       "      <td></td>\n",
       "      <td>NaN</td>\n",
       "      <td>JavaScript;TypeScript</td>\n",
       "      <td>2022</td>\n",
       "    </tr>\n",
       "    <tr>\n",
       "      <th>2</th>\n",
       "      <td>Employed, full-time</td>\n",
       "      <td>Master’s degree (M.A., M.S., M.Eng., MBA, etc.)</td>\n",
       "      <td></td>\n",
       "      <td>Data scientist or machine learning specialist;...</td>\n",
       "      <td>C#;C++;HTML/CSS;JavaScript;Python</td>\n",
       "      <td>2022</td>\n",
       "    </tr>\n",
       "    <tr>\n",
       "      <th>3</th>\n",
       "      <td>Employed, full-time</td>\n",
       "      <td>Bachelor’s degree (B.A., B.S., B.Eng., etc.)</td>\n",
       "      <td></td>\n",
       "      <td>Developer, full-stack</td>\n",
       "      <td>C#;JavaScript;SQL;TypeScript</td>\n",
       "      <td>2022</td>\n",
       "    </tr>\n",
       "    <tr>\n",
       "      <th>4</th>\n",
       "      <td>Employed, full-time</td>\n",
       "      <td>Bachelor’s degree (B.A., B.S., B.Eng., etc.)</td>\n",
       "      <td></td>\n",
       "      <td>Developer, front-end;Developer, full-stack;Dev...</td>\n",
       "      <td>C#;HTML/CSS;JavaScript;SQL;Swift;TypeScript</td>\n",
       "      <td>2022</td>\n",
       "    </tr>\n",
       "  </tbody>\n",
       "</table>\n",
       "</div>"
      ],
      "text/plain": [
       "            employment                                        edu_level  \\\n",
       "0                  NaN                                              NaN   \n",
       "1  Employed, full-time                                              NaN   \n",
       "2  Employed, full-time  Master’s degree (M.A., M.S., M.Eng., MBA, etc.)   \n",
       "3  Employed, full-time     Bachelor’s degree (B.A., B.S., B.Eng., etc.)   \n",
       "4  Employed, full-time     Bachelor’s degree (B.A., B.S., B.Eng., etc.)   \n",
       "\n",
       "  undergrad_major                                           dev_type  \\\n",
       "0                                                                NaN   \n",
       "1                                                                NaN   \n",
       "2                  Data scientist or machine learning specialist;...   \n",
       "3                                              Developer, full-stack   \n",
       "4                  Developer, front-end;Developer, full-stack;Dev...   \n",
       "\n",
       "                                      language  year  \n",
       "0                                          NaN  2022  \n",
       "1                        JavaScript;TypeScript  2022  \n",
       "2            C#;C++;HTML/CSS;JavaScript;Python  2022  \n",
       "3                 C#;JavaScript;SQL;TypeScript  2022  \n",
       "4  C#;HTML/CSS;JavaScript;SQL;Swift;TypeScript  2022  "
      ]
     },
     "execution_count": 35,
     "metadata": {},
     "output_type": "execute_result"
    }
   ],
   "source": [
    "df22_clean.head()"
   ]
  },
  {
   "cell_type": "markdown",
   "id": "f874f61e",
   "metadata": {},
   "source": [
    "#### 3.2. Dropp NULLs in employment column"
   ]
  },
  {
   "cell_type": "markdown",
   "id": "18b53874",
   "metadata": {},
   "source": [
    "#### Merge all data"
   ]
  },
  {
   "cell_type": "code",
   "execution_count": 36,
   "id": "61b60d5e",
   "metadata": {
    "scrolled": true
   },
   "outputs": [],
   "source": [
    "df = pd.concat(df_list, sort=False)"
   ]
  },
  {
   "cell_type": "markdown",
   "id": "979567e6",
   "metadata": {},
   "source": [
    "#### Test"
   ]
  },
  {
   "cell_type": "code",
   "execution_count": 37,
   "id": "cc8327c1",
   "metadata": {},
   "outputs": [],
   "source": [
    "def compare_row_counts(df_list, merged_df):\n",
    "    sum_row_counts = 0\n",
    "    for df in df_list:\n",
    "        sum_row_counts += df.shape[0]\n",
    "    if (sum_row_counts == merged_df.shape[0]):\n",
    "        return 'MATCHING'\n",
    "    else:\n",
    "        return 'NOT MATCHING'"
   ]
  },
  {
   "cell_type": "code",
   "execution_count": 38,
   "id": "85b05b3b",
   "metadata": {},
   "outputs": [
    {
     "name": "stdout",
     "output_type": "stream",
     "text": [
      "The row counts of five dataframes and dataframe after merged are MATCHING.\n"
     ]
    }
   ],
   "source": [
    "print(f'The row counts of five dataframes and dataframe after merged are {compare_row_counts(df_list, df)}.')"
   ]
  },
  {
   "cell_type": "markdown",
   "id": "95b0fd1a",
   "metadata": {},
   "source": [
    "#### 3.2. Drop Duplicates & NULLs in employment column"
   ]
  },
  {
   "cell_type": "code",
   "execution_count": 39,
   "id": "5458a894",
   "metadata": {},
   "outputs": [
    {
     "data": {
      "text/plain": [
       "(336500, 6)"
      ]
     },
     "execution_count": 39,
     "metadata": {},
     "output_type": "execute_result"
    }
   ],
   "source": [
    "# drop duplicates if exists\n",
    "df.drop_duplicates(inplace = True)\n",
    "df.shape"
   ]
  },
  {
   "cell_type": "code",
   "execution_count": 40,
   "id": "117c49df",
   "metadata": {},
   "outputs": [],
   "source": [
    "# drop NULLs in employment column\n",
    "df = df[pd.notnull(df['employment'])]\n",
    "df = df[pd.notnull(df['edu_level'])]\n",
    "df = df[pd.notnull(df['undergrad_major'])]\n",
    "df = df[pd.notnull(df['dev_type'])]\n",
    "df = df[pd.notnull(df['language'])]"
   ]
  },
  {
   "cell_type": "markdown",
   "id": "db0411b2",
   "metadata": {},
   "source": [
    "#### Test"
   ]
  },
  {
   "cell_type": "code",
   "execution_count": 41,
   "id": "3530afeb",
   "metadata": {},
   "outputs": [
    {
     "data": {
      "text/plain": [
       "0"
      ]
     },
     "execution_count": 41,
     "metadata": {},
     "output_type": "execute_result"
    }
   ],
   "source": [
    "# Check duplicates\n",
    "df.duplicated().sum()"
   ]
  },
  {
   "cell_type": "code",
   "execution_count": 42,
   "id": "3059d031",
   "metadata": {},
   "outputs": [
    {
     "data": {
      "text/plain": [
       "employment         0\n",
       "edu_level          0\n",
       "undergrad_major    0\n",
       "dev_type           0\n",
       "language           0\n",
       "year               0\n",
       "dtype: int64"
      ]
     },
     "execution_count": 42,
     "metadata": {},
     "output_type": "execute_result"
    }
   ],
   "source": [
    "# Check NULLs in employment column\n",
    "df.isna().sum()"
   ]
  },
  {
   "cell_type": "code",
   "execution_count": 43,
   "id": "4f452e63",
   "metadata": {},
   "outputs": [
    {
     "data": {
      "text/plain": [
       "(262993, 6)"
      ]
     },
     "execution_count": 43,
     "metadata": {},
     "output_type": "execute_result"
    }
   ],
   "source": [
    "df.shape"
   ]
  },
  {
   "cell_type": "markdown",
   "id": "77c74e1c",
   "metadata": {},
   "source": [
    "#### 3.3. Convert list of values in a cell to multiple rows"
   ]
  },
  {
   "cell_type": "markdown",
   "id": "87b34272",
   "metadata": {},
   "source": [
    "(This issue will be maintained when analyzing data by separating each column then explode them. It becomes to duplicate values if use explode() multiple columns in same dataframe.)"
   ]
  },
  {
   "cell_type": "markdown",
   "id": "d7f65d2b",
   "metadata": {},
   "source": [
    "### 4. Storing Data"
   ]
  },
  {
   "cell_type": "code",
   "execution_count": 44,
   "id": "c00b9d24",
   "metadata": {},
   "outputs": [],
   "source": [
    "df.to_csv('cleaned_data.csv', index=False)"
   ]
  },
  {
   "cell_type": "markdown",
   "id": "f03b0c5a",
   "metadata": {},
   "source": [
    "## II. Analyzing and Visualizing Data"
   ]
  },
  {
   "cell_type": "code",
   "execution_count": 45,
   "id": "377a5e52",
   "metadata": {
    "scrolled": false
   },
   "outputs": [
    {
     "data": {
      "text/html": [
       "<div>\n",
       "<style scoped>\n",
       "    .dataframe tbody tr th:only-of-type {\n",
       "        vertical-align: middle;\n",
       "    }\n",
       "\n",
       "    .dataframe tbody tr th {\n",
       "        vertical-align: top;\n",
       "    }\n",
       "\n",
       "    .dataframe thead th {\n",
       "        text-align: right;\n",
       "    }\n",
       "</style>\n",
       "<table border=\"1\" class=\"dataframe\">\n",
       "  <thead>\n",
       "    <tr style=\"text-align: right;\">\n",
       "      <th></th>\n",
       "      <th>employment</th>\n",
       "      <th>edu_level</th>\n",
       "      <th>undergrad_major</th>\n",
       "      <th>dev_type</th>\n",
       "      <th>language</th>\n",
       "      <th>year</th>\n",
       "    </tr>\n",
       "  </thead>\n",
       "  <tbody>\n",
       "    <tr>\n",
       "      <th>69789</th>\n",
       "      <td>Employed full-time</td>\n",
       "      <td>Bachelor’s degree (BA, BS, B.Eng., etc.)</td>\n",
       "      <td>Information systems, information technology, o...</td>\n",
       "      <td>System administrator</td>\n",
       "      <td>Other(s):</td>\n",
       "      <td>2019</td>\n",
       "    </tr>\n",
       "    <tr>\n",
       "      <th>123056</th>\n",
       "      <td>Not employed, but looking for work</td>\n",
       "      <td>Associate degree (A.A., A.S., etc.)</td>\n",
       "      <td>Computer science, computer engineering, or sof...</td>\n",
       "      <td>Scientist</td>\n",
       "      <td>C++;HTML/CSS;Java;JavaScript;PHP</td>\n",
       "      <td>2020</td>\n",
       "    </tr>\n",
       "    <tr>\n",
       "      <th>54647</th>\n",
       "      <td>Not employed, but looking for work</td>\n",
       "      <td>Some college/university study without earning ...</td>\n",
       "      <td>Web development or web design</td>\n",
       "      <td>Back-end developer;Designer;Front-end develope...</td>\n",
       "      <td>C;JavaScript;PHP;Python;HTML;CSS</td>\n",
       "      <td>2018</td>\n",
       "    </tr>\n",
       "    <tr>\n",
       "      <th>222313</th>\n",
       "      <td>Employed, full-time</td>\n",
       "      <td>Bachelor’s degree (B.A., B.S., B.Eng., etc.)</td>\n",
       "      <td>NaN</td>\n",
       "      <td>Developer, front-end;Developer, full-stack;Des...</td>\n",
       "      <td>JavaScript;TypeScript</td>\n",
       "      <td>2022</td>\n",
       "    </tr>\n",
       "    <tr>\n",
       "      <th>5796</th>\n",
       "      <td>Employed full-time</td>\n",
       "      <td>Master’s degree (MA, MS, M.Eng., MBA, etc.)</td>\n",
       "      <td>Another engineering discipline (ex. civil, ele...</td>\n",
       "      <td>Back-end developer;Embedded applications or de...</td>\n",
       "      <td>C++;SQL</td>\n",
       "      <td>2018</td>\n",
       "    </tr>\n",
       "  </tbody>\n",
       "</table>\n",
       "</div>"
      ],
      "text/plain": [
       "                                employment  \\\n",
       "69789                   Employed full-time   \n",
       "123056  Not employed, but looking for work   \n",
       "54647   Not employed, but looking for work   \n",
       "222313                 Employed, full-time   \n",
       "5796                    Employed full-time   \n",
       "\n",
       "                                                edu_level  \\\n",
       "69789            Bachelor’s degree (BA, BS, B.Eng., etc.)   \n",
       "123056                Associate degree (A.A., A.S., etc.)   \n",
       "54647   Some college/university study without earning ...   \n",
       "222313       Bachelor’s degree (B.A., B.S., B.Eng., etc.)   \n",
       "5796          Master’s degree (MA, MS, M.Eng., MBA, etc.)   \n",
       "\n",
       "                                          undergrad_major  \\\n",
       "69789   Information systems, information technology, o...   \n",
       "123056  Computer science, computer engineering, or sof...   \n",
       "54647                       Web development or web design   \n",
       "222313                                                NaN   \n",
       "5796    Another engineering discipline (ex. civil, ele...   \n",
       "\n",
       "                                                 dev_type  \\\n",
       "69789                                System administrator   \n",
       "123056                                          Scientist   \n",
       "54647   Back-end developer;Designer;Front-end develope...   \n",
       "222313  Developer, front-end;Developer, full-stack;Des...   \n",
       "5796    Back-end developer;Embedded applications or de...   \n",
       "\n",
       "                                language  year  \n",
       "69789                          Other(s):  2019  \n",
       "123056  C++;HTML/CSS;Java;JavaScript;PHP  2020  \n",
       "54647   C;JavaScript;PHP;Python;HTML;CSS  2018  \n",
       "222313             JavaScript;TypeScript  2022  \n",
       "5796                             C++;SQL  2018  "
      ]
     },
     "execution_count": 45,
     "metadata": {},
     "output_type": "execute_result"
    }
   ],
   "source": [
    "df_cleaned = pd.read_csv('cleaned_data.csv', low_memory=False)\n",
    "df_cleaned.sample(5)"
   ]
  },
  {
   "cell_type": "code",
   "execution_count": 46,
   "id": "4abe7367",
   "metadata": {},
   "outputs": [
    {
     "data": {
      "text/html": [
       "<div>\n",
       "<style scoped>\n",
       "    .dataframe tbody tr th:only-of-type {\n",
       "        vertical-align: middle;\n",
       "    }\n",
       "\n",
       "    .dataframe tbody tr th {\n",
       "        vertical-align: top;\n",
       "    }\n",
       "\n",
       "    .dataframe thead th {\n",
       "        text-align: right;\n",
       "    }\n",
       "</style>\n",
       "<table border=\"1\" class=\"dataframe\">\n",
       "  <thead>\n",
       "    <tr style=\"text-align: right;\">\n",
       "      <th></th>\n",
       "      <th>employment</th>\n",
       "      <th>edu_level</th>\n",
       "      <th>undergrad_major</th>\n",
       "      <th>dev_type</th>\n",
       "      <th>language</th>\n",
       "      <th>year</th>\n",
       "    </tr>\n",
       "  </thead>\n",
       "  <tbody>\n",
       "    <tr>\n",
       "      <th>0</th>\n",
       "      <td>Employed part-time</td>\n",
       "      <td>Bachelor’s degree (BA, BS, B.Eng., etc.)</td>\n",
       "      <td>Mathematics or statistics</td>\n",
       "      <td>[Full-stack developer]</td>\n",
       "      <td>[JavaScript, Python, HTML, CSS]</td>\n",
       "      <td>2018</td>\n",
       "    </tr>\n",
       "    <tr>\n",
       "      <th>1</th>\n",
       "      <td>Employed full-time</td>\n",
       "      <td>Bachelor’s degree (BA, BS, B.Eng., etc.)</td>\n",
       "      <td>A natural science (ex. biology, chemistry, phy...</td>\n",
       "      <td>[Database administrator, DevOps specialist, Fu...</td>\n",
       "      <td>[JavaScript, Python, Bash/Shell]</td>\n",
       "      <td>2018</td>\n",
       "    </tr>\n",
       "    <tr>\n",
       "      <th>2</th>\n",
       "      <td>Employed full-time</td>\n",
       "      <td>Bachelor’s degree (BA, BS, B.Eng., etc.)</td>\n",
       "      <td>Computer science, computer engineering, or sof...</td>\n",
       "      <td>[Full-stack developer]</td>\n",
       "      <td>[C#, JavaScript, SQL, TypeScript, HTML, CSS, B...</td>\n",
       "      <td>2018</td>\n",
       "    </tr>\n",
       "    <tr>\n",
       "      <th>3</th>\n",
       "      <td>Employed full-time</td>\n",
       "      <td>Some college/university study without earning ...</td>\n",
       "      <td>Computer science, computer engineering, or sof...</td>\n",
       "      <td>[Data or business analyst, Desktop or enterpri...</td>\n",
       "      <td>[C, C++, Java, Matlab, R, SQL, Bash/Shell]</td>\n",
       "      <td>2018</td>\n",
       "    </tr>\n",
       "    <tr>\n",
       "      <th>4</th>\n",
       "      <td>Employed full-time</td>\n",
       "      <td>Bachelor’s degree (BA, BS, B.Eng., etc.)</td>\n",
       "      <td>Computer science, computer engineering, or sof...</td>\n",
       "      <td>[Back-end developer, Database administrator, F...</td>\n",
       "      <td>[Java, JavaScript, Python, TypeScript, HTML, CSS]</td>\n",
       "      <td>2018</td>\n",
       "    </tr>\n",
       "  </tbody>\n",
       "</table>\n",
       "</div>"
      ],
      "text/plain": [
       "           employment                                          edu_level  \\\n",
       "0  Employed part-time           Bachelor’s degree (BA, BS, B.Eng., etc.)   \n",
       "1  Employed full-time           Bachelor’s degree (BA, BS, B.Eng., etc.)   \n",
       "2  Employed full-time           Bachelor’s degree (BA, BS, B.Eng., etc.)   \n",
       "3  Employed full-time  Some college/university study without earning ...   \n",
       "4  Employed full-time           Bachelor’s degree (BA, BS, B.Eng., etc.)   \n",
       "\n",
       "                                     undergrad_major  \\\n",
       "0                          Mathematics or statistics   \n",
       "1  A natural science (ex. biology, chemistry, phy...   \n",
       "2  Computer science, computer engineering, or sof...   \n",
       "3  Computer science, computer engineering, or sof...   \n",
       "4  Computer science, computer engineering, or sof...   \n",
       "\n",
       "                                            dev_type  \\\n",
       "0                             [Full-stack developer]   \n",
       "1  [Database administrator, DevOps specialist, Fu...   \n",
       "2                             [Full-stack developer]   \n",
       "3  [Data or business analyst, Desktop or enterpri...   \n",
       "4  [Back-end developer, Database administrator, F...   \n",
       "\n",
       "                                            language  year  \n",
       "0                    [JavaScript, Python, HTML, CSS]  2018  \n",
       "1                   [JavaScript, Python, Bash/Shell]  2018  \n",
       "2  [C#, JavaScript, SQL, TypeScript, HTML, CSS, B...  2018  \n",
       "3         [C, C++, Java, Matlab, R, SQL, Bash/Shell]  2018  \n",
       "4  [Java, JavaScript, Python, TypeScript, HTML, CSS]  2018  "
      ]
     },
     "execution_count": 46,
     "metadata": {},
     "output_type": "execute_result"
    }
   ],
   "source": [
    "df_cleaned.language = df_cleaned.language.str.split(';')\n",
    "df_cleaned.dev_type = df_cleaned.dev_type.str.split(';')\n",
    "df_cleaned.head()"
   ]
  },
  {
   "cell_type": "code",
   "execution_count": 47,
   "id": "aec2bd6a",
   "metadata": {},
   "outputs": [],
   "source": [
    "import pandas as pd\n",
    "import numpy as np\n",
    "import matplotlib.pyplot as plt\n",
    "from matplotlib.ticker import StrMethodFormatter\n",
    "\n",
    "# refer https://mode.com/example-gallery/python_horizontal_bar/\n",
    "def plot_bar(df, color, title):\n",
    "    ax = df.plot(kind='bar', figsize=(8, 10), color=color, zorder=2, width=0.85, title=title)\n",
    "\n",
    "    # Despine\n",
    "    ax.spines['right'].set_visible(False)\n",
    "    ax.spines['top'].set_visible(False)\n",
    "    ax.spines['left'].set_visible(False)\n",
    "    ax.spines['bottom'].set_visible(False)"
   ]
  },
  {
   "cell_type": "markdown",
   "id": "d6862048",
   "metadata": {},
   "source": [
    "### 1. What programing languages were most popular each year?"
   ]
  },
  {
   "cell_type": "code",
   "execution_count": 48,
   "id": "f5be5996",
   "metadata": {},
   "outputs": [
    {
     "data": {
      "text/html": [
       "<div>\n",
       "<style scoped>\n",
       "    .dataframe tbody tr th:only-of-type {\n",
       "        vertical-align: middle;\n",
       "    }\n",
       "\n",
       "    .dataframe tbody tr th {\n",
       "        vertical-align: top;\n",
       "    }\n",
       "\n",
       "    .dataframe thead th {\n",
       "        text-align: right;\n",
       "    }\n",
       "</style>\n",
       "<table border=\"1\" class=\"dataframe\">\n",
       "  <thead>\n",
       "    <tr style=\"text-align: right;\">\n",
       "      <th></th>\n",
       "      <th>employment</th>\n",
       "      <th>edu_level</th>\n",
       "      <th>undergrad_major</th>\n",
       "      <th>dev_type</th>\n",
       "      <th>language</th>\n",
       "      <th>year</th>\n",
       "    </tr>\n",
       "  </thead>\n",
       "  <tbody>\n",
       "    <tr>\n",
       "      <th>0</th>\n",
       "      <td>Employed part-time</td>\n",
       "      <td>Bachelor’s degree (BA, BS, B.Eng., etc.)</td>\n",
       "      <td>Mathematics or statistics</td>\n",
       "      <td>[Full-stack developer]</td>\n",
       "      <td>[JavaScript, Python, HTML, CSS]</td>\n",
       "      <td>2018</td>\n",
       "    </tr>\n",
       "    <tr>\n",
       "      <th>1</th>\n",
       "      <td>Employed full-time</td>\n",
       "      <td>Bachelor’s degree (BA, BS, B.Eng., etc.)</td>\n",
       "      <td>A natural science (ex. biology, chemistry, phy...</td>\n",
       "      <td>[Database administrator, DevOps specialist, Fu...</td>\n",
       "      <td>[JavaScript, Python, Bash/Shell]</td>\n",
       "      <td>2018</td>\n",
       "    </tr>\n",
       "    <tr>\n",
       "      <th>2</th>\n",
       "      <td>Employed full-time</td>\n",
       "      <td>Bachelor’s degree (BA, BS, B.Eng., etc.)</td>\n",
       "      <td>Computer science, computer engineering, or sof...</td>\n",
       "      <td>[Full-stack developer]</td>\n",
       "      <td>[C#, JavaScript, SQL, TypeScript, HTML, CSS, B...</td>\n",
       "      <td>2018</td>\n",
       "    </tr>\n",
       "    <tr>\n",
       "      <th>3</th>\n",
       "      <td>Employed full-time</td>\n",
       "      <td>Some college/university study without earning ...</td>\n",
       "      <td>Computer science, computer engineering, or sof...</td>\n",
       "      <td>[Data or business analyst, Desktop or enterpri...</td>\n",
       "      <td>[C, C++, Java, Matlab, R, SQL, Bash/Shell]</td>\n",
       "      <td>2018</td>\n",
       "    </tr>\n",
       "    <tr>\n",
       "      <th>4</th>\n",
       "      <td>Employed full-time</td>\n",
       "      <td>Bachelor’s degree (BA, BS, B.Eng., etc.)</td>\n",
       "      <td>Computer science, computer engineering, or sof...</td>\n",
       "      <td>[Back-end developer, Database administrator, F...</td>\n",
       "      <td>[Java, JavaScript, Python, TypeScript, HTML, CSS]</td>\n",
       "      <td>2018</td>\n",
       "    </tr>\n",
       "  </tbody>\n",
       "</table>\n",
       "</div>"
      ],
      "text/plain": [
       "           employment                                          edu_level  \\\n",
       "0  Employed part-time           Bachelor’s degree (BA, BS, B.Eng., etc.)   \n",
       "1  Employed full-time           Bachelor’s degree (BA, BS, B.Eng., etc.)   \n",
       "2  Employed full-time           Bachelor’s degree (BA, BS, B.Eng., etc.)   \n",
       "3  Employed full-time  Some college/university study without earning ...   \n",
       "4  Employed full-time           Bachelor’s degree (BA, BS, B.Eng., etc.)   \n",
       "\n",
       "                                     undergrad_major  \\\n",
       "0                          Mathematics or statistics   \n",
       "1  A natural science (ex. biology, chemistry, phy...   \n",
       "2  Computer science, computer engineering, or sof...   \n",
       "3  Computer science, computer engineering, or sof...   \n",
       "4  Computer science, computer engineering, or sof...   \n",
       "\n",
       "                                            dev_type  \\\n",
       "0                             [Full-stack developer]   \n",
       "1  [Database administrator, DevOps specialist, Fu...   \n",
       "2                             [Full-stack developer]   \n",
       "3  [Data or business analyst, Desktop or enterpri...   \n",
       "4  [Back-end developer, Database administrator, F...   \n",
       "\n",
       "                                            language  year  \n",
       "0                    [JavaScript, Python, HTML, CSS]  2018  \n",
       "1                   [JavaScript, Python, Bash/Shell]  2018  \n",
       "2  [C#, JavaScript, SQL, TypeScript, HTML, CSS, B...  2018  \n",
       "3         [C, C++, Java, Matlab, R, SQL, Bash/Shell]  2018  \n",
       "4  [Java, JavaScript, Python, TypeScript, HTML, CSS]  2018  "
      ]
     },
     "execution_count": 48,
     "metadata": {},
     "output_type": "execute_result"
    }
   ],
   "source": [
    "df_lang = df_cleaned.copy()\n",
    "df_lang.head()"
   ]
  },
  {
   "cell_type": "code",
   "execution_count": 49,
   "id": "e9d4214d",
   "metadata": {},
   "outputs": [
    {
     "data": {
      "text/html": [
       "<div>\n",
       "<style scoped>\n",
       "    .dataframe tbody tr th:only-of-type {\n",
       "        vertical-align: middle;\n",
       "    }\n",
       "\n",
       "    .dataframe tbody tr th {\n",
       "        vertical-align: top;\n",
       "    }\n",
       "\n",
       "    .dataframe thead th {\n",
       "        text-align: right;\n",
       "    }\n",
       "</style>\n",
       "<table border=\"1\" class=\"dataframe\">\n",
       "  <thead>\n",
       "    <tr style=\"text-align: right;\">\n",
       "      <th></th>\n",
       "      <th>employment</th>\n",
       "      <th>edu_level</th>\n",
       "      <th>undergrad_major</th>\n",
       "      <th>dev_type</th>\n",
       "      <th>language</th>\n",
       "      <th>year</th>\n",
       "    </tr>\n",
       "  </thead>\n",
       "  <tbody>\n",
       "    <tr>\n",
       "      <th>0</th>\n",
       "      <td>Employed part-time</td>\n",
       "      <td>Bachelor’s degree (BA, BS, B.Eng., etc.)</td>\n",
       "      <td>Mathematics or statistics</td>\n",
       "      <td>[Full-stack developer]</td>\n",
       "      <td>JavaScript</td>\n",
       "      <td>2018</td>\n",
       "    </tr>\n",
       "    <tr>\n",
       "      <th>0</th>\n",
       "      <td>Employed part-time</td>\n",
       "      <td>Bachelor’s degree (BA, BS, B.Eng., etc.)</td>\n",
       "      <td>Mathematics or statistics</td>\n",
       "      <td>[Full-stack developer]</td>\n",
       "      <td>Python</td>\n",
       "      <td>2018</td>\n",
       "    </tr>\n",
       "    <tr>\n",
       "      <th>0</th>\n",
       "      <td>Employed part-time</td>\n",
       "      <td>Bachelor’s degree (BA, BS, B.Eng., etc.)</td>\n",
       "      <td>Mathematics or statistics</td>\n",
       "      <td>[Full-stack developer]</td>\n",
       "      <td>HTML</td>\n",
       "      <td>2018</td>\n",
       "    </tr>\n",
       "    <tr>\n",
       "      <th>0</th>\n",
       "      <td>Employed part-time</td>\n",
       "      <td>Bachelor’s degree (BA, BS, B.Eng., etc.)</td>\n",
       "      <td>Mathematics or statistics</td>\n",
       "      <td>[Full-stack developer]</td>\n",
       "      <td>CSS</td>\n",
       "      <td>2018</td>\n",
       "    </tr>\n",
       "    <tr>\n",
       "      <th>1</th>\n",
       "      <td>Employed full-time</td>\n",
       "      <td>Bachelor’s degree (BA, BS, B.Eng., etc.)</td>\n",
       "      <td>A natural science (ex. biology, chemistry, phy...</td>\n",
       "      <td>[Database administrator, DevOps specialist, Fu...</td>\n",
       "      <td>JavaScript</td>\n",
       "      <td>2018</td>\n",
       "    </tr>\n",
       "  </tbody>\n",
       "</table>\n",
       "</div>"
      ],
      "text/plain": [
       "           employment                                 edu_level  \\\n",
       "0  Employed part-time  Bachelor’s degree (BA, BS, B.Eng., etc.)   \n",
       "0  Employed part-time  Bachelor’s degree (BA, BS, B.Eng., etc.)   \n",
       "0  Employed part-time  Bachelor’s degree (BA, BS, B.Eng., etc.)   \n",
       "0  Employed part-time  Bachelor’s degree (BA, BS, B.Eng., etc.)   \n",
       "1  Employed full-time  Bachelor’s degree (BA, BS, B.Eng., etc.)   \n",
       "\n",
       "                                     undergrad_major  \\\n",
       "0                          Mathematics or statistics   \n",
       "0                          Mathematics or statistics   \n",
       "0                          Mathematics or statistics   \n",
       "0                          Mathematics or statistics   \n",
       "1  A natural science (ex. biology, chemistry, phy...   \n",
       "\n",
       "                                            dev_type    language  year  \n",
       "0                             [Full-stack developer]  JavaScript  2018  \n",
       "0                             [Full-stack developer]      Python  2018  \n",
       "0                             [Full-stack developer]        HTML  2018  \n",
       "0                             [Full-stack developer]         CSS  2018  \n",
       "1  [Database administrator, DevOps specialist, Fu...  JavaScript  2018  "
      ]
     },
     "execution_count": 49,
     "metadata": {},
     "output_type": "execute_result"
    }
   ],
   "source": [
    "df_lang = df_lang.explode('language')\n",
    "df_lang.head()"
   ]
  },
  {
   "cell_type": "code",
   "execution_count": 50,
   "id": "74fccc6f",
   "metadata": {},
   "outputs": [],
   "source": [
    "df18_lang = df_lang[df_lang.year == 2018].language.value_counts().head(10)"
   ]
  },
  {
   "cell_type": "code",
   "execution_count": 51,
   "id": "eea33b7f",
   "metadata": {},
   "outputs": [],
   "source": [
    "df19_lang = df_lang[df_lang.year == 2019].language.value_counts().head(10)"
   ]
  },
  {
   "cell_type": "code",
   "execution_count": 52,
   "id": "b892949c",
   "metadata": {},
   "outputs": [],
   "source": [
    "df20_lang = df_lang[df_lang.year == 2020].language.value_counts().head(10)"
   ]
  },
  {
   "cell_type": "code",
   "execution_count": 53,
   "id": "1d171bb8",
   "metadata": {},
   "outputs": [],
   "source": [
    "df21_lang = df_lang[df_lang.year == 2021].language.value_counts().head(10)"
   ]
  },
  {
   "cell_type": "code",
   "execution_count": 54,
   "id": "8776f736",
   "metadata": {},
   "outputs": [],
   "source": [
    "df22_lang = df_lang[df_lang.year == 2022].language.value_counts().head(10)"
   ]
  },
  {
   "cell_type": "code",
   "execution_count": 55,
   "id": "9c8add5a",
   "metadata": {
    "scrolled": false
   },
   "outputs": [
    {
     "data": {
      "image/png": "[encoded data removed]",
      "text/plain": [
       "<Figure size 576x720 with 1 Axes>"
      ]
     },
     "metadata": {
      "needs_background": "light"
     },
     "output_type": "display_data"
    }
   ],
   "source": [
    "plot_bar(df18_lang, '#d11141', 'Top 10 popular programing languages in 2018')"
   ]
  },
  {
   "cell_type": "code",
   "execution_count": 56,
   "id": "4e60ba44",
   "metadata": {
    "scrolled": true
   },
   "outputs": [
    {
     "data": {
      "image/png": "[encoded data removed]",
      "text/plain": [
       "<Figure size 576x720 with 1 Axes>"
      ]
     },
     "metadata": {
      "needs_background": "light"
     },
     "output_type": "display_data"
    }
   ],
   "source": [
    "plot_bar(df19_lang, '#00b159', 'Top 10 popular programing languages in 2019')"
   ]
  },
  {
   "cell_type": "code",
   "execution_count": 57,
   "id": "abc5c2c0",
   "metadata": {
    "scrolled": true
   },
   "outputs": [
    {
     "data": {
      "image/png": "[encoded data removed]",
      "text/plain": [
       "<Figure size 576x720 with 1 Axes>"
      ]
     },
     "metadata": {
      "needs_background": "light"
     },
     "output_type": "display_data"
    }
   ],
   "source": [
    "plot_bar(df20_lang, '#00aedb', 'Top 10 popular programing languages in 2020')"
   ]
  },
  {
   "cell_type": "code",
   "execution_count": 58,
   "id": "b1a66f1c",
   "metadata": {
    "scrolled": true
   },
   "outputs": [
    {
     "data": {
      "image/png": "[encoded data removed]",
      "text/plain": [
       "<Figure size 576x720 with 1 Axes>"
      ]
     },
     "metadata": {
      "needs_background": "light"
     },
     "output_type": "display_data"
    }
   ],
   "source": [
    "plot_bar(df21_lang, '#f37735', 'Top 10 popular programing languages in 2021')"
   ]
  },
  {
   "cell_type": "code",
   "execution_count": 59,
   "id": "21c1a898",
   "metadata": {
    "scrolled": true
   },
   "outputs": [
    {
     "data": {
      "image/png": "[encoded data removed]",
      "text/plain": [
       "<Figure size 576x720 with 1 Axes>"
      ]
     },
     "metadata": {
      "needs_background": "light"
     },
     "output_type": "display_data"
    }
   ],
   "source": [
    "plot_bar(df22_lang, '#ffc425', 'Top 10 popular programing languages in 2022')"
   ]
  },
  {
   "cell_type": "markdown",
   "id": "d838911a",
   "metadata": {},
   "source": [
    "**Observations**:\n",
    "- In last 5 years (2018-2022), top 10 popular languages haven't change. Includes: Javascript, HTML/CSS, SQL, Python, TypeScript, Java, Bash/Shell, C#, PHP, and C++.\n",
    "- The top 3 popular languages haven't change are Javascript, HTML/CSS, SQL. It's easy to explain when these 3 languages are the main, indispensable languages.\n",
    "- Java in 2018-2020 is in top 5 popular languages but seems like it lost its status in the last 2 years. \n",
    "- Python broke through from 2019 and has maintained its 4th place performance so far. Because Python is the easiest language to start coding and build the project from scratch fastly.\n",
    "- Typescript is the most surprising thing. From not being in the top 10 in 2018, to being in the top 10 in 2019 and growing to a higher top in the next 3 years."
   ]
  },
  {
   "cell_type": "markdown",
   "id": "bfc70dca",
   "metadata": {},
   "source": [
    "### 2. What jobs were most popular each year?"
   ]
  },
  {
   "cell_type": "code",
   "execution_count": 60,
   "id": "ea3bd2fb",
   "metadata": {},
   "outputs": [
    {
     "data": {
      "text/html": [
       "<div>\n",
       "<style scoped>\n",
       "    .dataframe tbody tr th:only-of-type {\n",
       "        vertical-align: middle;\n",
       "    }\n",
       "\n",
       "    .dataframe tbody tr th {\n",
       "        vertical-align: top;\n",
       "    }\n",
       "\n",
       "    .dataframe thead th {\n",
       "        text-align: right;\n",
       "    }\n",
       "</style>\n",
       "<table border=\"1\" class=\"dataframe\">\n",
       "  <thead>\n",
       "    <tr style=\"text-align: right;\">\n",
       "      <th></th>\n",
       "      <th>employment</th>\n",
       "      <th>edu_level</th>\n",
       "      <th>undergrad_major</th>\n",
       "      <th>dev_type</th>\n",
       "      <th>language</th>\n",
       "      <th>year</th>\n",
       "    </tr>\n",
       "  </thead>\n",
       "  <tbody>\n",
       "    <tr>\n",
       "      <th>0</th>\n",
       "      <td>Employed part-time</td>\n",
       "      <td>Bachelor’s degree (BA, BS, B.Eng., etc.)</td>\n",
       "      <td>Mathematics or statistics</td>\n",
       "      <td>[Full-stack developer]</td>\n",
       "      <td>[JavaScript, Python, HTML, CSS]</td>\n",
       "      <td>2018</td>\n",
       "    </tr>\n",
       "    <tr>\n",
       "      <th>1</th>\n",
       "      <td>Employed full-time</td>\n",
       "      <td>Bachelor’s degree (BA, BS, B.Eng., etc.)</td>\n",
       "      <td>A natural science (ex. biology, chemistry, phy...</td>\n",
       "      <td>[Database administrator, DevOps specialist, Fu...</td>\n",
       "      <td>[JavaScript, Python, Bash/Shell]</td>\n",
       "      <td>2018</td>\n",
       "    </tr>\n",
       "    <tr>\n",
       "      <th>2</th>\n",
       "      <td>Employed full-time</td>\n",
       "      <td>Bachelor’s degree (BA, BS, B.Eng., etc.)</td>\n",
       "      <td>Computer science, computer engineering, or sof...</td>\n",
       "      <td>[Full-stack developer]</td>\n",
       "      <td>[C#, JavaScript, SQL, TypeScript, HTML, CSS, B...</td>\n",
       "      <td>2018</td>\n",
       "    </tr>\n",
       "    <tr>\n",
       "      <th>3</th>\n",
       "      <td>Employed full-time</td>\n",
       "      <td>Some college/university study without earning ...</td>\n",
       "      <td>Computer science, computer engineering, or sof...</td>\n",
       "      <td>[Data or business analyst, Desktop or enterpri...</td>\n",
       "      <td>[C, C++, Java, Matlab, R, SQL, Bash/Shell]</td>\n",
       "      <td>2018</td>\n",
       "    </tr>\n",
       "    <tr>\n",
       "      <th>4</th>\n",
       "      <td>Employed full-time</td>\n",
       "      <td>Bachelor’s degree (BA, BS, B.Eng., etc.)</td>\n",
       "      <td>Computer science, computer engineering, or sof...</td>\n",
       "      <td>[Back-end developer, Database administrator, F...</td>\n",
       "      <td>[Java, JavaScript, Python, TypeScript, HTML, CSS]</td>\n",
       "      <td>2018</td>\n",
       "    </tr>\n",
       "  </tbody>\n",
       "</table>\n",
       "</div>"
      ],
      "text/plain": [
       "           employment                                          edu_level  \\\n",
       "0  Employed part-time           Bachelor’s degree (BA, BS, B.Eng., etc.)   \n",
       "1  Employed full-time           Bachelor’s degree (BA, BS, B.Eng., etc.)   \n",
       "2  Employed full-time           Bachelor’s degree (BA, BS, B.Eng., etc.)   \n",
       "3  Employed full-time  Some college/university study without earning ...   \n",
       "4  Employed full-time           Bachelor’s degree (BA, BS, B.Eng., etc.)   \n",
       "\n",
       "                                     undergrad_major  \\\n",
       "0                          Mathematics or statistics   \n",
       "1  A natural science (ex. biology, chemistry, phy...   \n",
       "2  Computer science, computer engineering, or sof...   \n",
       "3  Computer science, computer engineering, or sof...   \n",
       "4  Computer science, computer engineering, or sof...   \n",
       "\n",
       "                                            dev_type  \\\n",
       "0                             [Full-stack developer]   \n",
       "1  [Database administrator, DevOps specialist, Fu...   \n",
       "2                             [Full-stack developer]   \n",
       "3  [Data or business analyst, Desktop or enterpri...   \n",
       "4  [Back-end developer, Database administrator, F...   \n",
       "\n",
       "                                            language  year  \n",
       "0                    [JavaScript, Python, HTML, CSS]  2018  \n",
       "1                   [JavaScript, Python, Bash/Shell]  2018  \n",
       "2  [C#, JavaScript, SQL, TypeScript, HTML, CSS, B...  2018  \n",
       "3         [C, C++, Java, Matlab, R, SQL, Bash/Shell]  2018  \n",
       "4  [Java, JavaScript, Python, TypeScript, HTML, CSS]  2018  "
      ]
     },
     "execution_count": 60,
     "metadata": {},
     "output_type": "execute_result"
    }
   ],
   "source": [
    "df_job = df_cleaned.copy()\n",
    "df_job.head()"
   ]
  },
  {
   "cell_type": "code",
   "execution_count": 61,
   "id": "9d2cea1b",
   "metadata": {
    "scrolled": true
   },
   "outputs": [
    {
     "data": {
      "text/plain": [
       "Developer                                        390148\n",
       " full-stack                                      105118\n",
       " back-end                                        102218\n",
       " front-end                                        62976\n",
       " desktop or enterprise applications               43023\n",
       "Back-end developer                                35157\n",
       " mobile                                           34515\n",
       "DevOps specialist                                 33018\n",
       "Database administrator                            32027\n",
       "Full-stack developer                              29479\n",
       "System administrator                              29135\n",
       "Designer                                          26818\n",
       "Engineer                                          24179\n",
       "Student                                           23645\n",
       "Front-end developer                               21933\n",
       "Data scientist or machine learning specialist     21000\n",
       "Data or business analyst                          20941\n",
       " embedded applications or devices                 17847\n",
       "Engineering manager                               17383\n",
       " data                                             15738\n",
       " QA or test                                       15139\n",
       "Product manager                                   14170\n",
       "Academic researcher                               13325\n",
       "Mobile developer                                  11813\n",
       "Desktop or enterprise applications developer      11125\n",
       "Educator                                          10486\n",
       " game or graphics                                  9312\n",
       "Scientist                                          8500\n",
       " site reliability                                  8441\n",
       " etc.)                                             6295\n",
       "Other (please specify):                            5653\n",
       "Cloud infrastructure engineer                      5198\n",
       "QA or test developer                               4472\n",
       "Senior Executive (C-Suite                          3857\n",
       " VP                                                3857\n",
       "Project manager                                    3842\n",
       "Embedded applications or devices developer         3382\n",
       "Marketing or sales professional                    3003\n",
       "Senior executive/VP                                2877\n",
       "Educator or academic researcher                    2663\n",
       "Game or graphics developer                         2528\n",
       "C-suite executive (CEO                             2438\n",
       " CTO                                               2438\n",
       "Security professional                              1904\n",
       "Blockchain                                         1273\n",
       "Name: dev_type, dtype: int64"
      ]
     },
     "execution_count": 61,
     "metadata": {},
     "output_type": "execute_result"
    }
   ],
   "source": [
    "df_job = df_job.explode('dev_type')\n",
    "df_job.dev_type = df_job.dev_type.str.split(',')\n",
    "df_job = df_job.explode('dev_type')\n",
    "df_job.dev_type.value_counts()"
   ]
  },
  {
   "cell_type": "markdown",
   "id": "da63fb06",
   "metadata": {},
   "source": [
    "There're messy storing data in dataframe. Need to be transformed to have the best analyzing result."
   ]
  },
  {
   "cell_type": "code",
   "execution_count": 62,
   "id": "5b945163",
   "metadata": {},
   "outputs": [],
   "source": [
    "# Drop all rows where dev_type are Developer, Engineer, Student, Other because they're general and not valuable for analyzing.\n",
    "df_job.drop(df_job[df_job.dev_type == 'Developer'].index, inplace=True)\n",
    "df_job.drop(df_job[df_job.dev_type == 'Engineer'].index, inplace=True)\n",
    "df_job.drop(df_job[df_job.dev_type == 'Student'].index, inplace=True)\n",
    "df_job.drop(df_job[df_job.dev_type.str.contains('Other')].index, inplace=True)\n",
    "df_job.drop(df_job[df_job.dev_type.str.contains('manager')].index, inplace=True)"
   ]
  },
  {
   "cell_type": "code",
   "execution_count": 63,
   "id": "c2e48691",
   "metadata": {},
   "outputs": [
    {
     "data": {
      "text/plain": [
       "Back-end developer                               27538\n",
       "Full-stack developer                             23463\n",
       "Front-end developer                              16905\n",
       "Mobile developer                                  8801\n",
       "Desktop or enterprise applications developer      8613\n",
       "Database administrator                            7184\n",
       "DevOps specialist                                 7176\n",
       "Data scientist or machine learning specialist     7078\n",
       "System administrator                              6488\n",
       "Data or business analyst                          6417\n",
       "Designer                                          5705\n",
       "QA or test developer                              3155\n",
       "Academic researcher                               3080\n",
       "Embedded applications or devices developer        2478\n",
       " etc.)                                            2085\n",
       "Scientist                                         2007\n",
       "Game or graphics developer                        1601\n",
       "Educator or academic researcher                   1520\n",
       " CTO                                              1378\n",
       "C-suite executive (CEO                            1378\n",
       "Educator                                          1240\n",
       "Senior Executive (C-Suite                          707\n",
       " VP                                                707\n",
       "Marketing or sales professional                    674\n",
       "Cloud infrastructure engineer                      395\n",
       "Senior executive/VP                                391\n",
       "Security professional                              241\n",
       "Blockchain                                          87\n",
       "Name: dev_type, dtype: int64"
      ]
     },
     "execution_count": 63,
     "metadata": {},
     "output_type": "execute_result"
    }
   ],
   "source": [
    "df_job.dev_type.value_counts()"
   ]
  },
  {
   "cell_type": "code",
   "execution_count": 64,
   "id": "9ace6b23",
   "metadata": {},
   "outputs": [],
   "source": [
    "df18_job = df_job[df_job.year == 2018].dev_type.value_counts().head()"
   ]
  },
  {
   "cell_type": "code",
   "execution_count": 65,
   "id": "3f05958f",
   "metadata": {
    "scrolled": true
   },
   "outputs": [],
   "source": [
    "df19_job = df_job[df_job.year == 2019].dev_type.value_counts().head()"
   ]
  },
  {
   "cell_type": "code",
   "execution_count": 66,
   "id": "9e60cca2",
   "metadata": {},
   "outputs": [],
   "source": [
    "df20_job = df_job[df_job.year == 2020].dev_type.value_counts().head()"
   ]
  },
  {
   "cell_type": "code",
   "execution_count": 67,
   "id": "67a37312",
   "metadata": {},
   "outputs": [],
   "source": [
    "df21_job = df_job[df_job.year == 2021].dev_type.value_counts().head()"
   ]
  },
  {
   "cell_type": "code",
   "execution_count": 68,
   "id": "a70a4ac3",
   "metadata": {},
   "outputs": [],
   "source": [
    "df22_job = df_job[df_job.year == 2022].dev_type.value_counts().head()"
   ]
  },
  {
   "cell_type": "code",
   "execution_count": 69,
   "id": "00619aa9",
   "metadata": {
    "scrolled": true
   },
   "outputs": [
    {
     "data": {
      "image/png": "[encoded data removed]",
      "text/plain": [
       "<Figure size 576x720 with 1 Axes>"
      ]
     },
     "metadata": {
      "needs_background": "light"
     },
     "output_type": "display_data"
    }
   ],
   "source": [
    "plot_bar(df18_job, '#d11141', 'Top 5 popular jobs in 2018')"
   ]
  },
  {
   "cell_type": "code",
   "execution_count": 70,
   "id": "782131a9",
   "metadata": {
    "scrolled": true
   },
   "outputs": [
    {
     "data": {
      "image/png": "[encoded data removed]",
      "text/plain": [
       "<Figure size 576x720 with 1 Axes>"
      ]
     },
     "metadata": {
      "needs_background": "light"
     },
     "output_type": "display_data"
    }
   ],
   "source": [
    "plot_bar(df19_job, '#00b159', 'Top 5 popular jobs in 2019')"
   ]
  },
  {
   "cell_type": "code",
   "execution_count": 71,
   "id": "4cb0f0e1",
   "metadata": {
    "scrolled": true
   },
   "outputs": [
    {
     "data": {
      "image/png": "[encoded data removed]",
      "text/plain": [
       "<Figure size 576x720 with 1 Axes>"
      ]
     },
     "metadata": {
      "needs_background": "light"
     },
     "output_type": "display_data"
    }
   ],
   "source": [
    "plot_bar(df20_job, '#00aedb', 'Top 5 popular jobs in 2020')"
   ]
  },
  {
   "cell_type": "code",
   "execution_count": 72,
   "id": "48951c4e",
   "metadata": {
    "scrolled": false
   },
   "outputs": [
    {
     "data": {
      "image/png": "[encoded data removed]",
      "text/plain": [
       "<Figure size 576x720 with 1 Axes>"
      ]
     },
     "metadata": {
      "needs_background": "light"
     },
     "output_type": "display_data"
    }
   ],
   "source": [
    "plot_bar(df21_job, '#f37735', 'Top 5 popular jobs in 2021')"
   ]
  },
  {
   "cell_type": "code",
   "execution_count": 73,
   "id": "c53e7cd2",
   "metadata": {
    "scrolled": false
   },
   "outputs": [
    {
     "data": {
      "image/png": "[encoded data removed]",
      "text/plain": [
       "<Figure size 576x720 with 1 Axes>"
      ]
     },
     "metadata": {
      "needs_background": "light"
     },
     "output_type": "display_data"
    }
   ],
   "source": [
    "plot_bar(df22_job, '#ffc425', 'Top 5 popular jobs in 2022')"
   ]
  },
  {
   "cell_type": "markdown",
   "id": "ba2650a8",
   "metadata": {},
   "source": [
    "**Observations**:\n",
    "- While full-stack, back-end, front-end developers accounted for almost all of the top 5 in 2018. Since 2019, the job trend has begun to shift to Data science and DevOps."
   ]
  },
  {
   "cell_type": "markdown",
   "id": "caf3c632",
   "metadata": {},
   "source": [
    "### 3. Does one need to graduate from the right university to enter the IT industry?"
   ]
  },
  {
   "cell_type": "code",
   "execution_count": 74,
   "id": "84947ea8",
   "metadata": {},
   "outputs": [],
   "source": [
    "df_edu = df_cleaned.copy()"
   ]
  },
  {
   "cell_type": "code",
   "execution_count": 75,
   "id": "13cec3b2",
   "metadata": {
    "scrolled": true
   },
   "outputs": [],
   "source": [
    "df_edu_level = df_edu.edu_level.value_counts()"
   ]
  },
  {
   "cell_type": "code",
   "execution_count": 76,
   "id": "a0a0cf5d",
   "metadata": {},
   "outputs": [],
   "source": [
    "df_edu_major = df_edu.undergrad_major.value_counts()"
   ]
  },
  {
   "cell_type": "code",
   "execution_count": 77,
   "id": "ce4064c7",
   "metadata": {},
   "outputs": [
    {
     "data": {
      "text/plain": [
       "Bachelor’s degree (B.A., B.S., B.Eng., etc.)                                          64785\n",
       "Bachelor’s degree (BA, BS, B.Eng., etc.)                                              59405\n",
       "Some college/university study without earning a degree                                36964\n",
       "Master’s degree (M.A., M.S., M.Eng., MBA, etc.)                                       36570\n",
       "Master’s degree (MA, MS, M.Eng., MBA, etc.)                                           31441\n",
       "Secondary school (e.g. American high school, German Realschule or Gymnasium, etc.)     7200\n",
       "Other doctoral degree (Ph.D., Ed.D., etc.)                                             5549\n",
       "Associate degree (A.A., A.S., etc.)                                                    5013\n",
       "Professional degree (JD, MD, etc.)                                                     4776\n",
       "Associate degree                                                                       4679\n",
       "Other doctoral degree (Ph.D, Ed.D., etc.)                                              3889\n",
       "Something else                                                                         1568\n",
       "Primary/elementary school                                                              1154\n",
       "Name: edu_level, dtype: int64"
      ]
     },
     "execution_count": 77,
     "metadata": {},
     "output_type": "execute_result"
    }
   ],
   "source": [
    "df_edu.edu_level.value_counts()"
   ]
  },
  {
   "cell_type": "code",
   "execution_count": 78,
   "id": "9fe6e6fd",
   "metadata": {
    "scrolled": true
   },
   "outputs": [],
   "source": [
    "df_edu.edu_level[df_edu.edu_level.str.find('(') != -1] = df_edu.edu_level.str.extract(r\"(.*?)\\(\", expand=False)"
   ]
  },
  {
   "cell_type": "code",
   "execution_count": 79,
   "id": "1eec85dd",
   "metadata": {
    "scrolled": false
   },
   "outputs": [],
   "source": [
    "arr_edu = df_edu.edu_level.value_counts()"
   ]
  },
  {
   "cell_type": "code",
   "execution_count": 81,
   "id": "f1657e84",
   "metadata": {},
   "outputs": [
    {
     "data": {
      "text/plain": [
       "47.221789173095864"
      ]
     },
     "execution_count": 81,
     "metadata": {},
     "output_type": "execute_result"
    }
   ],
   "source": [
    "bachelor_per = arr_edu.values[0]/arr_edu.values.sum()*100\n",
    "bachelor_per"
   ]
  },
  {
   "cell_type": "code",
   "execution_count": 82,
   "id": "cbb29c8a",
   "metadata": {},
   "outputs": [
    {
     "data": {
      "text/plain": [
       "25.86038411668752"
      ]
     },
     "execution_count": 82,
     "metadata": {},
     "output_type": "execute_result"
    }
   ],
   "source": [
    "master_per = arr_edu.values[1]/arr_edu.values.sum()*100\n",
    "master_per"
   ]
  },
  {
   "cell_type": "code",
   "execution_count": 83,
   "id": "b56c764c",
   "metadata": {},
   "outputs": [
    {
     "data": {
      "text/plain": [
       "26.917826710216616"
      ]
     },
     "execution_count": 83,
     "metadata": {},
     "output_type": "execute_result"
    }
   ],
   "source": [
    "other_level_per = 100 - bachelor_per - master_per\n",
    "other_level_per"
   ]
  },
  {
   "cell_type": "code",
   "execution_count": 110,
   "id": "81f693bf",
   "metadata": {
    "scrolled": true
   },
   "outputs": [
    {
     "data": {
      "image/png": "[encoded data removed]",
      "text/plain": [
       "<Figure size 432x288 with 1 Axes>"
      ]
     },
     "metadata": {},
     "output_type": "display_data"
    }
   ],
   "source": [
    "y = np.array([bachelor_per, master_per, other_level_per])\n",
    "mylabels = ['Bachelor', 'Master', 'Other']\n",
    "\n",
    "plt.pie(y, labels = mylabels, startangle = 90)\n",
    "plt.show() "
   ]
  },
  {
   "cell_type": "markdown",
   "id": "c1b4725e",
   "metadata": {},
   "source": [
    "#### **Observation**:\n",
    "- IT staff with bachelor's or master's degrees account for nearly 3/4"
   ]
  },
  {
   "cell_type": "code",
   "execution_count": 85,
   "id": "8a3c0b84",
   "metadata": {},
   "outputs": [],
   "source": [
    "df_edu.undergrad_major[df_edu.undergrad_major.str.find('(') != -1] = df_edu.undergrad_major.str.extract(r\"(.*?)\\(\", expand=False)"
   ]
  },
  {
   "cell_type": "code",
   "execution_count": 86,
   "id": "58f9f166",
   "metadata": {
    "scrolled": true
   },
   "outputs": [
    {
     "data": {
      "text/plain": [
       "Computer science, computer engineering, or software engineering          94862\n",
       "Another engineering discipline                                           14267\n",
       "Information systems, information technology, or system administration    12397\n",
       "A natural science                                                         7178\n",
       "Mathematics or statistics                                                 6331\n",
       "Web development or web design                                             5631\n",
       "A business discipline                                                     4187\n",
       "A humanities discipline                                                   3508\n",
       "A social science                                                          3079\n",
       "Fine arts or performing arts                                              2616\n",
       "I never declared a major                                                  1516\n",
       "A health science                                                           651\n",
       "Name: undergrad_major, dtype: int64"
      ]
     },
     "execution_count": 86,
     "metadata": {},
     "output_type": "execute_result"
    }
   ],
   "source": [
    "df_edu.undergrad_major.value_counts()"
   ]
  },
  {
   "cell_type": "code",
   "execution_count": 88,
   "id": "9847c47d",
   "metadata": {},
   "outputs": [],
   "source": [
    "arr_major = df_edu.undergrad_major.value_counts().values"
   ]
  },
  {
   "cell_type": "code",
   "execution_count": 95,
   "id": "c2442bc0",
   "metadata": {},
   "outputs": [],
   "source": [
    "major_per = arr_major/arr_major.sum()*100"
   ]
  },
  {
   "cell_type": "code",
   "execution_count": 108,
   "id": "3cd32981",
   "metadata": {
    "scrolled": true
   },
   "outputs": [
    {
     "data": {
      "text/plain": [
       "array([60.72217279,  9.13245809,  7.93545125, 22.20991787])"
      ]
     },
     "execution_count": 108,
     "metadata": {},
     "output_type": "execute_result"
    }
   ],
   "source": [
    "major_per_pie = major_per[:3]\n",
    "major_per_pie = np.append(major_per_pie, major_per[3:].sum())\n",
    "major_per_pie"
   ]
  },
  {
   "cell_type": "code",
   "execution_count": 115,
   "id": "a06ea2b5",
   "metadata": {
    "scrolled": false
   },
   "outputs": [
    {
     "data": {
      "image/png": "[encoded data removed]",
      "text/plain": [
       "<Figure size 432x288 with 1 Axes>"
      ]
     },
     "metadata": {},
     "output_type": "display_data"
    }
   ],
   "source": [
    "z = major_per_pie\n",
    "mylabels = ['Computer science / Software engineering', 'Another engineering', 'Information systems / system administration', 'Other']\n",
    "\n",
    "plt.pie(z, labels = mylabels, startangle = 90)\n",
    "plt.show() "
   ]
  },
  {
   "cell_type": "markdown",
   "id": "2f5c18fb",
   "metadata": {},
   "source": [
    "#### **Observation**:\n",
    "- More than 3/4 employees have a profressional degree relate to IT"
   ]
  }
 ],
 "metadata": {
  "kernelspec": {
   "display_name": "Python 3 (ipykernel)",
   "language": "python",
   "name": "python3"
  },
  "language_info": {
   "codemirror_mode": {
    "name": "ipython",
    "version": 3
   },
   "file_extension": ".py",
   "mimetype": "text/x-python",
   "name": "python",
   "nbconvert_exporter": "python",
   "pygments_lexer": "ipython3",
   "version": "3.9.12"
  }
 },
 "nbformat": 4,
 "nbformat_minor": 5
}
